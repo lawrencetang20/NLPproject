{
  "cells": [
    {
      "cell_type": "markdown",
      "metadata": {
        "id": "view-in-github",
        "colab_type": "text"
      },
      "source": [
        "<a href=\"https://colab.research.google.com/github/lawrencetang20/NLPproject/blob/main/NLP_Project.ipynb\" target=\"_parent\"><img src=\"https://colab.research.google.com/assets/colab-badge.svg\" alt=\"Open In Colab\"/></a>"
      ]
    },
    {
      "cell_type": "markdown",
      "metadata": {
        "id": "I3TbEj_rfNRR"
      },
      "source": [
        "# SECTION 1 - INSTALL/IMPORTS\n",
        "\n",
        "**Install and import necessary packages; run all cells**"
      ]
    },
    {
      "cell_type": "code",
      "execution_count": null,
      "metadata": {
        "colab": {
          "base_uri": "https://localhost:8080/"
        },
        "id": "xrYfLsAweC5W",
        "outputId": "a52cfe9d-a458-4834-ee84-e114f4b8b577",
        "collapsed": true
      },
      "outputs": [
        {
          "output_type": "stream",
          "name": "stdout",
          "text": [
            "Collecting pybaseball\n",
            "  Downloading pybaseball-2.2.7-py3-none-any.whl.metadata (11 kB)\n",
            "Requirement already satisfied: numpy>=1.13.0 in /usr/local/lib/python3.10/dist-packages (from pybaseball) (1.26.4)\n",
            "Requirement already satisfied: pandas>=1.0.3 in /usr/local/lib/python3.10/dist-packages (from pybaseball) (2.2.2)\n",
            "Requirement already satisfied: beautifulsoup4>=4.4.0 in /usr/local/lib/python3.10/dist-packages (from pybaseball) (4.12.3)\n",
            "Requirement already satisfied: requests>=2.18.1 in /usr/local/lib/python3.10/dist-packages (from pybaseball) (2.32.3)\n",
            "Requirement already satisfied: lxml>=4.2.1 in /usr/local/lib/python3.10/dist-packages (from pybaseball) (5.3.0)\n",
            "Requirement already satisfied: pyarrow>=1.0.1 in /usr/local/lib/python3.10/dist-packages (from pybaseball) (17.0.0)\n",
            "Collecting pygithub>=1.51 (from pybaseball)\n",
            "  Downloading PyGithub-2.5.0-py3-none-any.whl.metadata (3.9 kB)\n",
            "Requirement already satisfied: scipy>=1.4.0 in /usr/local/lib/python3.10/dist-packages (from pybaseball) (1.13.1)\n",
            "Requirement already satisfied: matplotlib>=2.0.0 in /usr/local/lib/python3.10/dist-packages (from pybaseball) (3.8.0)\n",
            "Requirement already satisfied: tqdm>=4.50.0 in /usr/local/lib/python3.10/dist-packages (from pybaseball) (4.66.6)\n",
            "Requirement already satisfied: attrs>=20.3.0 in /usr/local/lib/python3.10/dist-packages (from pybaseball) (24.2.0)\n",
            "Requirement already satisfied: soupsieve>1.2 in /usr/local/lib/python3.10/dist-packages (from beautifulsoup4>=4.4.0->pybaseball) (2.6)\n",
            "Requirement already satisfied: contourpy>=1.0.1 in /usr/local/lib/python3.10/dist-packages (from matplotlib>=2.0.0->pybaseball) (1.3.1)\n",
            "Requirement already satisfied: cycler>=0.10 in /usr/local/lib/python3.10/dist-packages (from matplotlib>=2.0.0->pybaseball) (0.12.1)\n",
            "Requirement already satisfied: fonttools>=4.22.0 in /usr/local/lib/python3.10/dist-packages (from matplotlib>=2.0.0->pybaseball) (4.55.1)\n",
            "Requirement already satisfied: kiwisolver>=1.0.1 in /usr/local/lib/python3.10/dist-packages (from matplotlib>=2.0.0->pybaseball) (1.4.7)\n",
            "Requirement already satisfied: packaging>=20.0 in /usr/local/lib/python3.10/dist-packages (from matplotlib>=2.0.0->pybaseball) (24.2)\n",
            "Requirement already satisfied: pillow>=6.2.0 in /usr/local/lib/python3.10/dist-packages (from matplotlib>=2.0.0->pybaseball) (11.0.0)\n",
            "Requirement already satisfied: pyparsing>=2.3.1 in /usr/local/lib/python3.10/dist-packages (from matplotlib>=2.0.0->pybaseball) (3.2.0)\n",
            "Requirement already satisfied: python-dateutil>=2.7 in /usr/local/lib/python3.10/dist-packages (from matplotlib>=2.0.0->pybaseball) (2.8.2)\n",
            "Requirement already satisfied: pytz>=2020.1 in /usr/local/lib/python3.10/dist-packages (from pandas>=1.0.3->pybaseball) (2024.2)\n",
            "Requirement already satisfied: tzdata>=2022.7 in /usr/local/lib/python3.10/dist-packages (from pandas>=1.0.3->pybaseball) (2024.2)\n",
            "Collecting pynacl>=1.4.0 (from pygithub>=1.51->pybaseball)\n",
            "  Downloading PyNaCl-1.5.0-cp36-abi3-manylinux_2_17_x86_64.manylinux2014_x86_64.manylinux_2_24_x86_64.whl.metadata (8.6 kB)\n",
            "Requirement already satisfied: pyjwt>=2.4.0 in /usr/local/lib/python3.10/dist-packages (from pyjwt[crypto]>=2.4.0->pygithub>=1.51->pybaseball) (2.10.1)\n",
            "Requirement already satisfied: typing-extensions>=4.0.0 in /usr/local/lib/python3.10/dist-packages (from pygithub>=1.51->pybaseball) (4.12.2)\n",
            "Requirement already satisfied: urllib3>=1.26.0 in /usr/local/lib/python3.10/dist-packages (from pygithub>=1.51->pybaseball) (2.2.3)\n",
            "Requirement already satisfied: Deprecated in /usr/local/lib/python3.10/dist-packages (from pygithub>=1.51->pybaseball) (1.2.15)\n",
            "Requirement already satisfied: charset-normalizer<4,>=2 in /usr/local/lib/python3.10/dist-packages (from requests>=2.18.1->pybaseball) (3.4.0)\n",
            "Requirement already satisfied: idna<4,>=2.5 in /usr/local/lib/python3.10/dist-packages (from requests>=2.18.1->pybaseball) (3.10)\n",
            "Requirement already satisfied: certifi>=2017.4.17 in /usr/local/lib/python3.10/dist-packages (from requests>=2.18.1->pybaseball) (2024.8.30)\n",
            "Requirement already satisfied: cryptography>=3.4.0 in /usr/local/lib/python3.10/dist-packages (from pyjwt[crypto]>=2.4.0->pygithub>=1.51->pybaseball) (43.0.3)\n",
            "Requirement already satisfied: cffi>=1.4.1 in /usr/local/lib/python3.10/dist-packages (from pynacl>=1.4.0->pygithub>=1.51->pybaseball) (1.17.1)\n",
            "Requirement already satisfied: six>=1.5 in /usr/local/lib/python3.10/dist-packages (from python-dateutil>=2.7->matplotlib>=2.0.0->pybaseball) (1.16.0)\n",
            "Requirement already satisfied: wrapt<2,>=1.10 in /usr/local/lib/python3.10/dist-packages (from Deprecated->pygithub>=1.51->pybaseball) (1.17.0)\n",
            "Requirement already satisfied: pycparser in /usr/local/lib/python3.10/dist-packages (from cffi>=1.4.1->pynacl>=1.4.0->pygithub>=1.51->pybaseball) (2.22)\n",
            "Downloading pybaseball-2.2.7-py3-none-any.whl (426 kB)\n",
            "\u001b[2K   \u001b[90m━━━━━━━━━━━━━━━━━━━━━━━━━━━━━━━━━━━━━━━━\u001b[0m \u001b[32m426.1/426.1 kB\u001b[0m \u001b[31m23.9 MB/s\u001b[0m eta \u001b[36m0:00:00\u001b[0m\n",
            "\u001b[?25hDownloading PyGithub-2.5.0-py3-none-any.whl (375 kB)\n",
            "\u001b[2K   \u001b[90m━━━━━━━━━━━━━━━━━━━━━━━━━━━━━━━━━━━━━━━━\u001b[0m \u001b[32m375.9/375.9 kB\u001b[0m \u001b[31m21.6 MB/s\u001b[0m eta \u001b[36m0:00:00\u001b[0m\n",
            "\u001b[?25hDownloading PyNaCl-1.5.0-cp36-abi3-manylinux_2_17_x86_64.manylinux2014_x86_64.manylinux_2_24_x86_64.whl (856 kB)\n",
            "\u001b[2K   \u001b[90m━━━━━━━━━━━━━━━━━━━━━━━━━━━━━━━━━━━━━━━━\u001b[0m \u001b[32m856.7/856.7 kB\u001b[0m \u001b[31m47.0 MB/s\u001b[0m eta \u001b[36m0:00:00\u001b[0m\n",
            "\u001b[?25hInstalling collected packages: pynacl, pygithub, pybaseball\n",
            "Successfully installed pybaseball-2.2.7 pygithub-2.5.0 pynacl-1.5.0\n",
            "Requirement already satisfied: transformers in /usr/local/lib/python3.10/dist-packages (4.46.3)\n",
            "Requirement already satisfied: filelock in /usr/local/lib/python3.10/dist-packages (from transformers) (3.16.1)\n",
            "Requirement already satisfied: huggingface-hub<1.0,>=0.23.2 in /usr/local/lib/python3.10/dist-packages (from transformers) (0.26.3)\n",
            "Requirement already satisfied: numpy>=1.17 in /usr/local/lib/python3.10/dist-packages (from transformers) (1.26.4)\n",
            "Requirement already satisfied: packaging>=20.0 in /usr/local/lib/python3.10/dist-packages (from transformers) (24.2)\n",
            "Requirement already satisfied: pyyaml>=5.1 in /usr/local/lib/python3.10/dist-packages (from transformers) (6.0.2)\n",
            "Requirement already satisfied: regex!=2019.12.17 in /usr/local/lib/python3.10/dist-packages (from transformers) (2024.9.11)\n",
            "Requirement already satisfied: requests in /usr/local/lib/python3.10/dist-packages (from transformers) (2.32.3)\n",
            "Requirement already satisfied: tokenizers<0.21,>=0.20 in /usr/local/lib/python3.10/dist-packages (from transformers) (0.20.3)\n",
            "Requirement already satisfied: safetensors>=0.4.1 in /usr/local/lib/python3.10/dist-packages (from transformers) (0.4.5)\n",
            "Requirement already satisfied: tqdm>=4.27 in /usr/local/lib/python3.10/dist-packages (from transformers) (4.66.6)\n",
            "Requirement already satisfied: fsspec>=2023.5.0 in /usr/local/lib/python3.10/dist-packages (from huggingface-hub<1.0,>=0.23.2->transformers) (2024.10.0)\n",
            "Requirement already satisfied: typing-extensions>=3.7.4.3 in /usr/local/lib/python3.10/dist-packages (from huggingface-hub<1.0,>=0.23.2->transformers) (4.12.2)\n",
            "Requirement already satisfied: charset-normalizer<4,>=2 in /usr/local/lib/python3.10/dist-packages (from requests->transformers) (3.4.0)\n",
            "Requirement already satisfied: idna<4,>=2.5 in /usr/local/lib/python3.10/dist-packages (from requests->transformers) (3.10)\n",
            "Requirement already satisfied: urllib3<3,>=1.21.1 in /usr/local/lib/python3.10/dist-packages (from requests->transformers) (2.2.3)\n",
            "Requirement already satisfied: certifi>=2017.4.17 in /usr/local/lib/python3.10/dist-packages (from requests->transformers) (2024.8.30)\n",
            "Collecting optuna\n",
            "  Downloading optuna-4.1.0-py3-none-any.whl.metadata (16 kB)\n",
            "Collecting alembic>=1.5.0 (from optuna)\n",
            "  Downloading alembic-1.14.0-py3-none-any.whl.metadata (7.4 kB)\n",
            "Collecting colorlog (from optuna)\n",
            "  Downloading colorlog-6.9.0-py3-none-any.whl.metadata (10 kB)\n",
            "Requirement already satisfied: numpy in /usr/local/lib/python3.10/dist-packages (from optuna) (1.26.4)\n",
            "Requirement already satisfied: packaging>=20.0 in /usr/local/lib/python3.10/dist-packages (from optuna) (24.2)\n",
            "Requirement already satisfied: sqlalchemy>=1.4.2 in /usr/local/lib/python3.10/dist-packages (from optuna) (2.0.36)\n",
            "Requirement already satisfied: tqdm in /usr/local/lib/python3.10/dist-packages (from optuna) (4.66.6)\n",
            "Requirement already satisfied: PyYAML in /usr/local/lib/python3.10/dist-packages (from optuna) (6.0.2)\n",
            "Collecting Mako (from alembic>=1.5.0->optuna)\n",
            "  Downloading Mako-1.3.8-py3-none-any.whl.metadata (2.9 kB)\n",
            "Requirement already satisfied: typing-extensions>=4 in /usr/local/lib/python3.10/dist-packages (from alembic>=1.5.0->optuna) (4.12.2)\n",
            "Requirement already satisfied: greenlet!=0.4.17 in /usr/local/lib/python3.10/dist-packages (from sqlalchemy>=1.4.2->optuna) (3.1.1)\n",
            "Requirement already satisfied: MarkupSafe>=0.9.2 in /usr/local/lib/python3.10/dist-packages (from Mako->alembic>=1.5.0->optuna) (3.0.2)\n",
            "Downloading optuna-4.1.0-py3-none-any.whl (364 kB)\n",
            "\u001b[2K   \u001b[90m━━━━━━━━━━━━━━━━━━━━━━━━━━━━━━━━━━━━━━━━\u001b[0m \u001b[32m364.4/364.4 kB\u001b[0m \u001b[31m17.5 MB/s\u001b[0m eta \u001b[36m0:00:00\u001b[0m\n",
            "\u001b[?25hDownloading alembic-1.14.0-py3-none-any.whl (233 kB)\n",
            "\u001b[2K   \u001b[90m━━━━━━━━━━━━━━━━━━━━━━━━━━━━━━━━━━━━━━━━\u001b[0m \u001b[32m233.5/233.5 kB\u001b[0m \u001b[31m15.8 MB/s\u001b[0m eta \u001b[36m0:00:00\u001b[0m\n",
            "\u001b[?25hDownloading colorlog-6.9.0-py3-none-any.whl (11 kB)\n",
            "Downloading Mako-1.3.8-py3-none-any.whl (78 kB)\n",
            "\u001b[2K   \u001b[90m━━━━━━━━━━━━━━━━━━━━━━━━━━━━━━━━━━━━━━━━\u001b[0m \u001b[32m78.6/78.6 kB\u001b[0m \u001b[31m7.4 MB/s\u001b[0m eta \u001b[36m0:00:00\u001b[0m\n",
            "\u001b[?25hInstalling collected packages: Mako, colorlog, alembic, optuna\n",
            "Successfully installed Mako-1.3.8 alembic-1.14.0 colorlog-6.9.0 optuna-4.1.0\n",
            "Looking in indexes: https://pypi.org/simple, https://download.pytorch.org/whl/cu116\n",
            "Requirement already satisfied: torch in /usr/local/lib/python3.10/dist-packages (2.5.1+cu121)\n",
            "Requirement already satisfied: torchvision in /usr/local/lib/python3.10/dist-packages (0.20.1+cu121)\n",
            "Requirement already satisfied: torchaudio in /usr/local/lib/python3.10/dist-packages (2.5.1+cu121)\n",
            "Requirement already satisfied: filelock in /usr/local/lib/python3.10/dist-packages (from torch) (3.16.1)\n",
            "Requirement already satisfied: typing-extensions>=4.8.0 in /usr/local/lib/python3.10/dist-packages (from torch) (4.12.2)\n",
            "Requirement already satisfied: networkx in /usr/local/lib/python3.10/dist-packages (from torch) (3.4.2)\n",
            "Requirement already satisfied: jinja2 in /usr/local/lib/python3.10/dist-packages (from torch) (3.1.4)\n",
            "Requirement already satisfied: fsspec in /usr/local/lib/python3.10/dist-packages (from torch) (2024.10.0)\n",
            "Requirement already satisfied: sympy==1.13.1 in /usr/local/lib/python3.10/dist-packages (from torch) (1.13.1)\n",
            "Requirement already satisfied: mpmath<1.4,>=1.1.0 in /usr/local/lib/python3.10/dist-packages (from sympy==1.13.1->torch) (1.3.0)\n",
            "Requirement already satisfied: numpy in /usr/local/lib/python3.10/dist-packages (from torchvision) (1.26.4)\n",
            "Requirement already satisfied: pillow!=8.3.*,>=5.3.0 in /usr/local/lib/python3.10/dist-packages (from torchvision) (11.0.0)\n",
            "Requirement already satisfied: MarkupSafe>=2.0 in /usr/local/lib/python3.10/dist-packages (from jinja2->torch) (3.0.2)\n"
          ]
        }
      ],
      "source": [
        "!pip install pybaseball\n",
        "!pip install transformers\n",
        "!pip install optuna\n",
        "!pip install torch torchvision torchaudio --extra-index-url https://download.pytorch.org/whl/cu116\n"
      ]
    },
    {
      "cell_type": "code",
      "execution_count": null,
      "metadata": {
        "colab": {
          "base_uri": "https://localhost:8080/"
        },
        "id": "ZRsCxVrRfcB2",
        "outputId": "cd260a3b-b9cd-43ad-9286-a6d5b855e517"
      },
      "outputs": [
        {
          "output_type": "stream",
          "name": "stdout",
          "text": [
            "Using device: cuda\n"
          ]
        }
      ],
      "source": [
        "import os\n",
        "import random\n",
        "import warnings\n",
        "from datetime import datetime, timedelta\n",
        "\n",
        "import numpy as np\n",
        "import pandas as pd\n",
        "import matplotlib.pyplot as plt\n",
        "\n",
        "from pybaseball import pitching_stats, statcast_pitcher, playerid_lookup\n",
        "\n",
        "from sklearn.model_selection import train_test_split\n",
        "from sklearn.preprocessing import LabelEncoder\n",
        "from sklearn.metrics import accuracy_score, f1_score\n",
        "\n",
        "import torch\n",
        "import torch.nn as nn\n",
        "from torch.utils.data import Dataset, DataLoader, TensorDataset\n",
        "from transformers import GPT2Tokenizer, GPT2LMHeadModel, AdamW, GPT2ForSequenceClassification, Trainer, TrainingArguments\n",
        "\n",
        "from tqdm import tqdm\n",
        "import optuna\n",
        "\n",
        "\n",
        "def set_seed(seed=42):\n",
        "    random.seed(seed)\n",
        "    np.random.seed(seed)\n",
        "    torch.manual_seed(seed)\n",
        "    if torch.cuda.is_available():\n",
        "        torch.cuda.manual_seed_all(seed)\n",
        "\n",
        "set_seed()\n",
        "\n",
        "START_YEAR = 2016\n",
        "END_YEAR = 2024\n",
        "TOP_N_PITCHERS = 8\n",
        "EPOCHS = 5\n",
        "DEVICE = torch.device(\"cuda\" if torch.cuda.is_available() else \"cpu\")\n",
        "\n",
        "print(f\"Using device: {DEVICE}\")"
      ]
    },
    {
      "cell_type": "code",
      "execution_count": null,
      "metadata": {
        "colab": {
          "base_uri": "https://localhost:8080/"
        },
        "id": "fkfNdKWohSKQ",
        "outputId": "969d0dee-02ef-46e1-e990-1f46a09616d3"
      },
      "outputs": [
        {
          "output_type": "stream",
          "name": "stdout",
          "text": [
            "Columns in the data for year 2016:\n",
            "['IDfg', 'Season', 'Name', 'Team', 'Age', 'W', 'L', 'WAR', 'ERA', 'G', 'GS', 'CG', 'ShO', 'SV', 'BS', 'IP', 'TBF', 'H', 'R', 'ER', 'HR', 'BB', 'IBB', 'HBP', 'WP', 'BK', 'SO', 'GB', 'FB', 'LD', 'IFFB', 'Balls', 'Strikes', 'Pitches', 'RS', 'IFH', 'BU', 'BUH', 'K/9', 'BB/9', 'K/BB', 'H/9', 'HR/9', 'AVG', 'WHIP', 'BABIP', 'LOB%', 'FIP', 'GB/FB', 'LD%', 'GB%', 'FB%', 'IFFB%', 'HR/FB', 'IFH%', 'BUH%', 'Starting', 'Start-IP', 'Relieving', 'Relief-IP', 'RAR', 'Dollars', 'tERA', 'xFIP', 'WPA', '-WPA', '+WPA', 'RE24', 'REW', 'pLI', 'inLI', 'gmLI', 'exLI', 'Pulls', 'WPA/LI', 'Clutch', 'FB% 2', 'FBv', 'SL%', 'SLv', 'CT%', 'CTv', 'CB%', 'CBv', 'CH%', 'CHv', 'SF%', 'SFv', 'KN%', 'KNv', 'XX%', 'PO%', 'wFB', 'wSL', 'wCT', 'wCB', 'wCH', 'wSF', 'wKN', 'wFB/C', 'wSL/C', 'wCT/C', 'wCB/C', 'wCH/C', 'wSF/C', 'wKN/C', 'O-Swing%', 'Z-Swing%', 'Swing%', 'O-Contact%', 'Z-Contact%', 'Contact%', 'Zone%', 'F-Strike%', 'SwStr%', 'HLD', 'SD', 'MD', 'ERA-', 'FIP-', 'xFIP-', 'K%', 'BB%', 'SIERA', 'RS/9', 'E-F', 'FA% (sc)', 'FT% (sc)', 'FC% (sc)', 'FS% (sc)', 'FO% (sc)', 'SI% (sc)', 'SL% (sc)', 'CU% (sc)', 'KC% (sc)', 'EP% (sc)', 'CH% (sc)', 'SC% (sc)', 'KN% (sc)', 'UN% (sc)', 'vFA (sc)', 'vFT (sc)', 'vFC (sc)', 'vFS (sc)', 'vFO (sc)', 'vSI (sc)', 'vSL (sc)', 'vCU (sc)', 'vKC (sc)', 'vEP (sc)', 'vCH (sc)', 'vSC (sc)', 'vKN (sc)', 'FA-X (sc)', 'FT-X (sc)', 'FC-X (sc)', 'FS-X (sc)', 'FO-X (sc)', 'SI-X (sc)', 'SL-X (sc)', 'CU-X (sc)', 'KC-X (sc)', 'EP-X (sc)', 'CH-X (sc)', 'SC-X (sc)', 'KN-X (sc)', 'FA-Z (sc)', 'FT-Z (sc)', 'FC-Z (sc)', 'FS-Z (sc)', 'FO-Z (sc)', 'SI-Z (sc)', 'SL-Z (sc)', 'CU-Z (sc)', 'KC-Z (sc)', 'EP-Z (sc)', 'CH-Z (sc)', 'SC-Z (sc)', 'KN-Z (sc)', 'wFA (sc)', 'wFT (sc)', 'wFC (sc)', 'wFS (sc)', 'wFO (sc)', 'wSI (sc)', 'wSL (sc)', 'wCU (sc)', 'wKC (sc)', 'wEP (sc)', 'wCH (sc)', 'wSC (sc)', 'wKN (sc)', 'wFA/C (sc)', 'wFT/C (sc)', 'wFC/C (sc)', 'wFS/C (sc)', 'wFO/C (sc)', 'wSI/C (sc)', 'wSL/C (sc)', 'wCU/C (sc)', 'wKC/C (sc)', 'wEP/C (sc)', 'wCH/C (sc)', 'wSC/C (sc)', 'wKN/C (sc)', 'O-Swing% (sc)', 'Z-Swing% (sc)', 'Swing% (sc)', 'O-Contact% (sc)', 'Z-Contact% (sc)', 'Contact% (sc)', 'Zone% (sc)', 'Pace', 'RA9-WAR', 'BIP-Wins', 'LOB-Wins', 'FDP-Wins', 'Age Rng', 'K-BB%', 'Pull%', 'Cent%', 'Oppo%', 'Soft%', 'Med%', 'Hard%', 'kwERA', 'TTO%', 'CH% (pi)', 'CS% (pi)', 'CU% (pi)', 'FA% (pi)', 'FC% (pi)', 'FS% (pi)', 'KN% (pi)', 'SB% (pi)', 'SI% (pi)', 'SL% (pi)', 'XX% (pi)', 'vCH (pi)', 'vCS (pi)', 'vCU (pi)', 'vFA (pi)', 'vFC (pi)', 'vFS (pi)', 'vKN (pi)', 'vSB (pi)', 'vSI (pi)', 'vSL (pi)', 'vXX (pi)', 'CH-X (pi)', 'CS-X (pi)', 'CU-X (pi)', 'FA-X (pi)', 'FC-X (pi)', 'FS-X (pi)', 'KN-X (pi)', 'SB-X (pi)', 'SI-X (pi)', 'SL-X (pi)', 'XX-X (pi)', 'CH-Z (pi)', 'CS-Z (pi)', 'CU-Z (pi)', 'FA-Z (pi)', 'FC-Z (pi)', 'FS-Z (pi)', 'KN-Z (pi)', 'SB-Z (pi)', 'SI-Z (pi)', 'SL-Z (pi)', 'XX-Z (pi)', 'wCH (pi)', 'wCS (pi)', 'wCU (pi)', 'wFA (pi)', 'wFC (pi)', 'wFS (pi)', 'wKN (pi)', 'wSB (pi)', 'wSI (pi)', 'wSL (pi)', 'wXX (pi)', 'wCH/C (pi)', 'wCS/C (pi)', 'wCU/C (pi)', 'wFA/C (pi)', 'wFC/C (pi)', 'wFS/C (pi)', 'wKN/C (pi)', 'wSB/C (pi)', 'wSI/C (pi)', 'wSL/C (pi)', 'wXX/C (pi)', 'O-Swing% (pi)', 'Z-Swing% (pi)', 'Swing% (pi)', 'O-Contact% (pi)', 'Z-Contact% (pi)', 'Contact% (pi)', 'Zone% (pi)', 'Pace (pi)', 'FRM', 'K/9+', 'BB/9+', 'K/BB+', 'H/9+', 'HR/9+', 'AVG+', 'WHIP+', 'BABIP+', 'LOB%+', 'K%+', 'BB%+', 'LD%+', 'GB%+', 'FB%+', 'HR/FB%+', 'Pull%+', 'Cent%+', 'Oppo%+', 'Soft%+', 'Med%+', 'Hard%+', 'EV', 'LA', 'Barrels', 'Barrel%', 'maxEV', 'HardHit', 'HardHit%', 'Events', 'CStr%', 'CSW%', 'xERA', 'botERA', 'botOvr CH', 'botStf CH', 'botCmd CH', 'botOvr CU', 'botStf CU', 'botCmd CU', 'botOvr FA', 'botStf FA', 'botCmd FA', 'botOvr SI', 'botStf SI', 'botCmd SI', 'botOvr SL', 'botStf SL', 'botCmd SL', 'botOvr KC', 'botStf KC', 'botCmd KC', 'botOvr FC', 'botStf FC', 'botCmd FC', 'botOvr FS', 'botStf FS', 'botCmd FS', 'botOvr', 'botStf', 'botCmd', 'botxRV100', 'Stf+ CH', 'Loc+ CH', 'Pit+ CH', 'Stf+ CU', 'Loc+ CU', 'Pit+ CU', 'Stf+ FA', 'Loc+ FA', 'Pit+ FA', 'Stf+ SI', 'Loc+ SI', 'Pit+ SI', 'Stf+ SL', 'Loc+ SL', 'Pit+ SL', 'Stf+ KC', 'Loc+ KC', 'Pit+ KC', 'Stf+ FC', 'Loc+ FC', 'Pit+ FC', 'Stf+ FS', 'Loc+ FS', 'Pit+ FS', 'Stuff+', 'Location+', 'Pitching+', 'Stf+ FO', 'Loc+ FO', 'Pit+ FO']\n",
            "\n",
            "First 5 records:\n"
          ]
        },
        {
          "output_type": "display_data",
          "data": {
            "text/plain": [
              "     IDfg  Season              Name Team  Age   W   L  WAR   ERA   G  ...  \\\n",
              "6   11530    2016    Jose Fernandez  MIA   23  16   8  6.3  2.86  29  ...   \n",
              "2   11762    2016  Noah Syndergaard  NYM   23  14   9  6.0  2.60  31  ...   \n",
              "7    3137    2016      Max Scherzer  WSN   31  20   7  5.6  2.96  34  ...   \n",
              "10   8700    2016  Justin Verlander  DET   33  16   9  5.4  3.04  34  ...   \n",
              "20  10603    2016        Chris Sale  CHW   27  17  10  5.3  3.34  32  ...   \n",
              "\n",
              "    Pit+ FC  Stf+ FS  Loc+ FS  Pit+ FS  Stuff+  Location+  Pitching+  Stf+ FO  \\\n",
              "6       NaN      NaN      NaN      NaN     NaN        NaN        NaN      NaN   \n",
              "2       NaN      NaN      NaN      NaN     NaN        NaN        NaN      NaN   \n",
              "7       NaN      NaN      NaN      NaN     NaN        NaN        NaN      NaN   \n",
              "10      NaN      NaN      NaN      NaN     NaN        NaN        NaN      NaN   \n",
              "20      NaN      NaN      NaN      NaN     NaN        NaN        NaN      NaN   \n",
              "\n",
              "    Loc+ FO  Pit+ FO  \n",
              "6       NaN      NaN  \n",
              "2       NaN      NaN  \n",
              "7       NaN      NaN  \n",
              "10      NaN      NaN  \n",
              "20      NaN      NaN  \n",
              "\n",
              "[5 rows x 393 columns]"
            ],
            "text/html": [
              "\n",
              "  <div id=\"df-eb4ec4fd-0c10-476f-84e2-5b9ac4980a12\" class=\"colab-df-container\">\n",
              "    <div>\n",
              "<style scoped>\n",
              "    .dataframe tbody tr th:only-of-type {\n",
              "        vertical-align: middle;\n",
              "    }\n",
              "\n",
              "    .dataframe tbody tr th {\n",
              "        vertical-align: top;\n",
              "    }\n",
              "\n",
              "    .dataframe thead th {\n",
              "        text-align: right;\n",
              "    }\n",
              "</style>\n",
              "<table border=\"1\" class=\"dataframe\">\n",
              "  <thead>\n",
              "    <tr style=\"text-align: right;\">\n",
              "      <th></th>\n",
              "      <th>IDfg</th>\n",
              "      <th>Season</th>\n",
              "      <th>Name</th>\n",
              "      <th>Team</th>\n",
              "      <th>Age</th>\n",
              "      <th>W</th>\n",
              "      <th>L</th>\n",
              "      <th>WAR</th>\n",
              "      <th>ERA</th>\n",
              "      <th>G</th>\n",
              "      <th>...</th>\n",
              "      <th>Pit+ FC</th>\n",
              "      <th>Stf+ FS</th>\n",
              "      <th>Loc+ FS</th>\n",
              "      <th>Pit+ FS</th>\n",
              "      <th>Stuff+</th>\n",
              "      <th>Location+</th>\n",
              "      <th>Pitching+</th>\n",
              "      <th>Stf+ FO</th>\n",
              "      <th>Loc+ FO</th>\n",
              "      <th>Pit+ FO</th>\n",
              "    </tr>\n",
              "  </thead>\n",
              "  <tbody>\n",
              "    <tr>\n",
              "      <th>6</th>\n",
              "      <td>11530</td>\n",
              "      <td>2016</td>\n",
              "      <td>Jose Fernandez</td>\n",
              "      <td>MIA</td>\n",
              "      <td>23</td>\n",
              "      <td>16</td>\n",
              "      <td>8</td>\n",
              "      <td>6.3</td>\n",
              "      <td>2.86</td>\n",
              "      <td>29</td>\n",
              "      <td>...</td>\n",
              "      <td>NaN</td>\n",
              "      <td>NaN</td>\n",
              "      <td>NaN</td>\n",
              "      <td>NaN</td>\n",
              "      <td>NaN</td>\n",
              "      <td>NaN</td>\n",
              "      <td>NaN</td>\n",
              "      <td>NaN</td>\n",
              "      <td>NaN</td>\n",
              "      <td>NaN</td>\n",
              "    </tr>\n",
              "    <tr>\n",
              "      <th>2</th>\n",
              "      <td>11762</td>\n",
              "      <td>2016</td>\n",
              "      <td>Noah Syndergaard</td>\n",
              "      <td>NYM</td>\n",
              "      <td>23</td>\n",
              "      <td>14</td>\n",
              "      <td>9</td>\n",
              "      <td>6.0</td>\n",
              "      <td>2.60</td>\n",
              "      <td>31</td>\n",
              "      <td>...</td>\n",
              "      <td>NaN</td>\n",
              "      <td>NaN</td>\n",
              "      <td>NaN</td>\n",
              "      <td>NaN</td>\n",
              "      <td>NaN</td>\n",
              "      <td>NaN</td>\n",
              "      <td>NaN</td>\n",
              "      <td>NaN</td>\n",
              "      <td>NaN</td>\n",
              "      <td>NaN</td>\n",
              "    </tr>\n",
              "    <tr>\n",
              "      <th>7</th>\n",
              "      <td>3137</td>\n",
              "      <td>2016</td>\n",
              "      <td>Max Scherzer</td>\n",
              "      <td>WSN</td>\n",
              "      <td>31</td>\n",
              "      <td>20</td>\n",
              "      <td>7</td>\n",
              "      <td>5.6</td>\n",
              "      <td>2.96</td>\n",
              "      <td>34</td>\n",
              "      <td>...</td>\n",
              "      <td>NaN</td>\n",
              "      <td>NaN</td>\n",
              "      <td>NaN</td>\n",
              "      <td>NaN</td>\n",
              "      <td>NaN</td>\n",
              "      <td>NaN</td>\n",
              "      <td>NaN</td>\n",
              "      <td>NaN</td>\n",
              "      <td>NaN</td>\n",
              "      <td>NaN</td>\n",
              "    </tr>\n",
              "    <tr>\n",
              "      <th>10</th>\n",
              "      <td>8700</td>\n",
              "      <td>2016</td>\n",
              "      <td>Justin Verlander</td>\n",
              "      <td>DET</td>\n",
              "      <td>33</td>\n",
              "      <td>16</td>\n",
              "      <td>9</td>\n",
              "      <td>5.4</td>\n",
              "      <td>3.04</td>\n",
              "      <td>34</td>\n",
              "      <td>...</td>\n",
              "      <td>NaN</td>\n",
              "      <td>NaN</td>\n",
              "      <td>NaN</td>\n",
              "      <td>NaN</td>\n",
              "      <td>NaN</td>\n",
              "      <td>NaN</td>\n",
              "      <td>NaN</td>\n",
              "      <td>NaN</td>\n",
              "      <td>NaN</td>\n",
              "      <td>NaN</td>\n",
              "    </tr>\n",
              "    <tr>\n",
              "      <th>20</th>\n",
              "      <td>10603</td>\n",
              "      <td>2016</td>\n",
              "      <td>Chris Sale</td>\n",
              "      <td>CHW</td>\n",
              "      <td>27</td>\n",
              "      <td>17</td>\n",
              "      <td>10</td>\n",
              "      <td>5.3</td>\n",
              "      <td>3.34</td>\n",
              "      <td>32</td>\n",
              "      <td>...</td>\n",
              "      <td>NaN</td>\n",
              "      <td>NaN</td>\n",
              "      <td>NaN</td>\n",
              "      <td>NaN</td>\n",
              "      <td>NaN</td>\n",
              "      <td>NaN</td>\n",
              "      <td>NaN</td>\n",
              "      <td>NaN</td>\n",
              "      <td>NaN</td>\n",
              "      <td>NaN</td>\n",
              "    </tr>\n",
              "  </tbody>\n",
              "</table>\n",
              "<p>5 rows × 393 columns</p>\n",
              "</div>\n",
              "    <div class=\"colab-df-buttons\">\n",
              "\n",
              "  <div class=\"colab-df-container\">\n",
              "    <button class=\"colab-df-convert\" onclick=\"convertToInteractive('df-eb4ec4fd-0c10-476f-84e2-5b9ac4980a12')\"\n",
              "            title=\"Convert this dataframe to an interactive table.\"\n",
              "            style=\"display:none;\">\n",
              "\n",
              "  <svg xmlns=\"http://www.w3.org/2000/svg\" height=\"24px\" viewBox=\"0 -960 960 960\">\n",
              "    <path d=\"M120-120v-720h720v720H120Zm60-500h600v-160H180v160Zm220 220h160v-160H400v160Zm0 220h160v-160H400v160ZM180-400h160v-160H180v160Zm440 0h160v-160H620v160ZM180-180h160v-160H180v160Zm440 0h160v-160H620v160Z\"/>\n",
              "  </svg>\n",
              "    </button>\n",
              "\n",
              "  <style>\n",
              "    .colab-df-container {\n",
              "      display:flex;\n",
              "      gap: 12px;\n",
              "    }\n",
              "\n",
              "    .colab-df-convert {\n",
              "      background-color: #E8F0FE;\n",
              "      border: none;\n",
              "      border-radius: 50%;\n",
              "      cursor: pointer;\n",
              "      display: none;\n",
              "      fill: #1967D2;\n",
              "      height: 32px;\n",
              "      padding: 0 0 0 0;\n",
              "      width: 32px;\n",
              "    }\n",
              "\n",
              "    .colab-df-convert:hover {\n",
              "      background-color: #E2EBFA;\n",
              "      box-shadow: 0px 1px 2px rgba(60, 64, 67, 0.3), 0px 1px 3px 1px rgba(60, 64, 67, 0.15);\n",
              "      fill: #174EA6;\n",
              "    }\n",
              "\n",
              "    .colab-df-buttons div {\n",
              "      margin-bottom: 4px;\n",
              "    }\n",
              "\n",
              "    [theme=dark] .colab-df-convert {\n",
              "      background-color: #3B4455;\n",
              "      fill: #D2E3FC;\n",
              "    }\n",
              "\n",
              "    [theme=dark] .colab-df-convert:hover {\n",
              "      background-color: #434B5C;\n",
              "      box-shadow: 0px 1px 3px 1px rgba(0, 0, 0, 0.15);\n",
              "      filter: drop-shadow(0px 1px 2px rgba(0, 0, 0, 0.3));\n",
              "      fill: #FFFFFF;\n",
              "    }\n",
              "  </style>\n",
              "\n",
              "    <script>\n",
              "      const buttonEl =\n",
              "        document.querySelector('#df-eb4ec4fd-0c10-476f-84e2-5b9ac4980a12 button.colab-df-convert');\n",
              "      buttonEl.style.display =\n",
              "        google.colab.kernel.accessAllowed ? 'block' : 'none';\n",
              "\n",
              "      async function convertToInteractive(key) {\n",
              "        const element = document.querySelector('#df-eb4ec4fd-0c10-476f-84e2-5b9ac4980a12');\n",
              "        const dataTable =\n",
              "          await google.colab.kernel.invokeFunction('convertToInteractive',\n",
              "                                                    [key], {});\n",
              "        if (!dataTable) return;\n",
              "\n",
              "        const docLinkHtml = 'Like what you see? Visit the ' +\n",
              "          '<a target=\"_blank\" href=https://colab.research.google.com/notebooks/data_table.ipynb>data table notebook</a>'\n",
              "          + ' to learn more about interactive tables.';\n",
              "        element.innerHTML = '';\n",
              "        dataTable['output_type'] = 'display_data';\n",
              "        await google.colab.output.renderOutput(dataTable, element);\n",
              "        const docLink = document.createElement('div');\n",
              "        docLink.innerHTML = docLinkHtml;\n",
              "        element.appendChild(docLink);\n",
              "      }\n",
              "    </script>\n",
              "  </div>\n",
              "\n",
              "\n",
              "<div id=\"df-73e3911c-72de-4ee3-bf6e-46b8c07d8387\">\n",
              "  <button class=\"colab-df-quickchart\" onclick=\"quickchart('df-73e3911c-72de-4ee3-bf6e-46b8c07d8387')\"\n",
              "            title=\"Suggest charts\"\n",
              "            style=\"display:none;\">\n",
              "\n",
              "<svg xmlns=\"http://www.w3.org/2000/svg\" height=\"24px\"viewBox=\"0 0 24 24\"\n",
              "     width=\"24px\">\n",
              "    <g>\n",
              "        <path d=\"M19 3H5c-1.1 0-2 .9-2 2v14c0 1.1.9 2 2 2h14c1.1 0 2-.9 2-2V5c0-1.1-.9-2-2-2zM9 17H7v-7h2v7zm4 0h-2V7h2v10zm4 0h-2v-4h2v4z\"/>\n",
              "    </g>\n",
              "</svg>\n",
              "  </button>\n",
              "\n",
              "<style>\n",
              "  .colab-df-quickchart {\n",
              "      --bg-color: #E8F0FE;\n",
              "      --fill-color: #1967D2;\n",
              "      --hover-bg-color: #E2EBFA;\n",
              "      --hover-fill-color: #174EA6;\n",
              "      --disabled-fill-color: #AAA;\n",
              "      --disabled-bg-color: #DDD;\n",
              "  }\n",
              "\n",
              "  [theme=dark] .colab-df-quickchart {\n",
              "      --bg-color: #3B4455;\n",
              "      --fill-color: #D2E3FC;\n",
              "      --hover-bg-color: #434B5C;\n",
              "      --hover-fill-color: #FFFFFF;\n",
              "      --disabled-bg-color: #3B4455;\n",
              "      --disabled-fill-color: #666;\n",
              "  }\n",
              "\n",
              "  .colab-df-quickchart {\n",
              "    background-color: var(--bg-color);\n",
              "    border: none;\n",
              "    border-radius: 50%;\n",
              "    cursor: pointer;\n",
              "    display: none;\n",
              "    fill: var(--fill-color);\n",
              "    height: 32px;\n",
              "    padding: 0;\n",
              "    width: 32px;\n",
              "  }\n",
              "\n",
              "  .colab-df-quickchart:hover {\n",
              "    background-color: var(--hover-bg-color);\n",
              "    box-shadow: 0 1px 2px rgba(60, 64, 67, 0.3), 0 1px 3px 1px rgba(60, 64, 67, 0.15);\n",
              "    fill: var(--button-hover-fill-color);\n",
              "  }\n",
              "\n",
              "  .colab-df-quickchart-complete:disabled,\n",
              "  .colab-df-quickchart-complete:disabled:hover {\n",
              "    background-color: var(--disabled-bg-color);\n",
              "    fill: var(--disabled-fill-color);\n",
              "    box-shadow: none;\n",
              "  }\n",
              "\n",
              "  .colab-df-spinner {\n",
              "    border: 2px solid var(--fill-color);\n",
              "    border-color: transparent;\n",
              "    border-bottom-color: var(--fill-color);\n",
              "    animation:\n",
              "      spin 1s steps(1) infinite;\n",
              "  }\n",
              "\n",
              "  @keyframes spin {\n",
              "    0% {\n",
              "      border-color: transparent;\n",
              "      border-bottom-color: var(--fill-color);\n",
              "      border-left-color: var(--fill-color);\n",
              "    }\n",
              "    20% {\n",
              "      border-color: transparent;\n",
              "      border-left-color: var(--fill-color);\n",
              "      border-top-color: var(--fill-color);\n",
              "    }\n",
              "    30% {\n",
              "      border-color: transparent;\n",
              "      border-left-color: var(--fill-color);\n",
              "      border-top-color: var(--fill-color);\n",
              "      border-right-color: var(--fill-color);\n",
              "    }\n",
              "    40% {\n",
              "      border-color: transparent;\n",
              "      border-right-color: var(--fill-color);\n",
              "      border-top-color: var(--fill-color);\n",
              "    }\n",
              "    60% {\n",
              "      border-color: transparent;\n",
              "      border-right-color: var(--fill-color);\n",
              "    }\n",
              "    80% {\n",
              "      border-color: transparent;\n",
              "      border-right-color: var(--fill-color);\n",
              "      border-bottom-color: var(--fill-color);\n",
              "    }\n",
              "    90% {\n",
              "      border-color: transparent;\n",
              "      border-bottom-color: var(--fill-color);\n",
              "    }\n",
              "  }\n",
              "</style>\n",
              "\n",
              "  <script>\n",
              "    async function quickchart(key) {\n",
              "      const quickchartButtonEl =\n",
              "        document.querySelector('#' + key + ' button');\n",
              "      quickchartButtonEl.disabled = true;  // To prevent multiple clicks.\n",
              "      quickchartButtonEl.classList.add('colab-df-spinner');\n",
              "      try {\n",
              "        const charts = await google.colab.kernel.invokeFunction(\n",
              "            'suggestCharts', [key], {});\n",
              "      } catch (error) {\n",
              "        console.error('Error during call to suggestCharts:', error);\n",
              "      }\n",
              "      quickchartButtonEl.classList.remove('colab-df-spinner');\n",
              "      quickchartButtonEl.classList.add('colab-df-quickchart-complete');\n",
              "    }\n",
              "    (() => {\n",
              "      let quickchartButtonEl =\n",
              "        document.querySelector('#df-73e3911c-72de-4ee3-bf6e-46b8c07d8387 button');\n",
              "      quickchartButtonEl.style.display =\n",
              "        google.colab.kernel.accessAllowed ? 'block' : 'none';\n",
              "    })();\n",
              "  </script>\n",
              "</div>\n",
              "\n",
              "    </div>\n",
              "  </div>\n"
            ],
            "application/vnd.google.colaboratory.intrinsic+json": {
              "type": "dataframe"
            }
          },
          "metadata": {}
        }
      ],
      "source": [
        "# inspecting data for a sample year\n",
        "\n",
        "sample_year = 2016\n",
        "try:\n",
        "    sample_df = pitching_stats(sample_year)\n",
        "    print(f\"Columns in the data for year {sample_year}:\")\n",
        "    print(sample_df.columns.tolist())\n",
        "    print(\"\\nFirst 5 records:\")\n",
        "    display(sample_df.head())\n",
        "except Exception as e:\n",
        "    print(f\"Error fetching data for year {sample_year}: {e}\")\n"
      ]
    },
    {
      "cell_type": "markdown",
      "source": [
        "# SECTION 2 - OBTAINING DATA\n",
        "\n",
        "**Run all cells except saving data to google drive**\n",
        "\n",
        "You can obtain the data yourself from pybaseball, but the pkl files are already provided"
      ],
      "metadata": {
        "id": "JUSUzL1L6_ml"
      }
    },
    {
      "cell_type": "code",
      "execution_count": null,
      "metadata": {
        "colab": {
          "base_uri": "https://localhost:8080/"
        },
        "id": "3ayKW_AHfpDY",
        "outputId": "b9607f9b-f04d-49c9-c9d9-7a616968956d"
      },
      "outputs": [
        {
          "output_type": "stream",
          "name": "stdout",
          "text": [
            "\n",
            "Columns in the combined data:\n",
            "['IDfg', 'Season', 'Name', 'Team', 'Age', 'W', 'L', 'WAR', 'ERA', 'G', 'GS', 'CG', 'ShO', 'SV', 'BS', 'IP', 'TBF', 'H', 'R', 'ER', 'HR', 'BB', 'IBB', 'HBP', 'WP', 'BK', 'SO', 'GB', 'FB', 'LD', 'IFFB', 'Balls', 'Strikes', 'Pitches', 'RS', 'IFH', 'BU', 'BUH', 'K/9', 'BB/9', 'K/BB', 'H/9', 'HR/9', 'AVG', 'WHIP', 'BABIP', 'LOB%', 'FIP', 'GB/FB', 'LD%', 'GB%', 'FB%', 'IFFB%', 'HR/FB', 'IFH%', 'BUH%', 'Starting', 'Start-IP', 'Relieving', 'Relief-IP', 'RAR', 'Dollars', 'tERA', 'xFIP', 'WPA', '-WPA', '+WPA', 'RE24', 'REW', 'pLI', 'inLI', 'gmLI', 'exLI', 'Pulls', 'WPA/LI', 'Clutch', 'FB% 2', 'FBv', 'SL%', 'SLv', 'CT%', 'CTv', 'CB%', 'CBv', 'CH%', 'CHv', 'SF%', 'SFv', 'KN%', 'KNv', 'XX%', 'PO%', 'wFB', 'wSL', 'wCT', 'wCB', 'wCH', 'wSF', 'wKN', 'wFB/C', 'wSL/C', 'wCT/C', 'wCB/C', 'wCH/C', 'wSF/C', 'wKN/C', 'O-Swing%', 'Z-Swing%', 'Swing%', 'O-Contact%', 'Z-Contact%', 'Contact%', 'Zone%', 'F-Strike%', 'SwStr%', 'HLD', 'SD', 'MD', 'ERA-', 'FIP-', 'xFIP-', 'K%', 'BB%', 'SIERA', 'RS/9', 'E-F', 'FA% (sc)', 'FT% (sc)', 'FC% (sc)', 'FS% (sc)', 'FO% (sc)', 'SI% (sc)', 'SL% (sc)', 'CU% (sc)', 'KC% (sc)', 'EP% (sc)', 'CH% (sc)', 'SC% (sc)', 'KN% (sc)', 'UN% (sc)', 'vFA (sc)', 'vFT (sc)', 'vFC (sc)', 'vFS (sc)', 'vFO (sc)', 'vSI (sc)', 'vSL (sc)', 'vCU (sc)', 'vKC (sc)', 'vEP (sc)', 'vCH (sc)', 'vSC (sc)', 'vKN (sc)', 'FA-X (sc)', 'FT-X (sc)', 'FC-X (sc)', 'FS-X (sc)', 'FO-X (sc)', 'SI-X (sc)', 'SL-X (sc)', 'CU-X (sc)', 'KC-X (sc)', 'EP-X (sc)', 'CH-X (sc)', 'SC-X (sc)', 'KN-X (sc)', 'FA-Z (sc)', 'FT-Z (sc)', 'FC-Z (sc)', 'FS-Z (sc)', 'FO-Z (sc)', 'SI-Z (sc)', 'SL-Z (sc)', 'CU-Z (sc)', 'KC-Z (sc)', 'EP-Z (sc)', 'CH-Z (sc)', 'SC-Z (sc)', 'KN-Z (sc)', 'wFA (sc)', 'wFT (sc)', 'wFC (sc)', 'wFS (sc)', 'wFO (sc)', 'wSI (sc)', 'wSL (sc)', 'wCU (sc)', 'wKC (sc)', 'wEP (sc)', 'wCH (sc)', 'wSC (sc)', 'wKN (sc)', 'wFA/C (sc)', 'wFT/C (sc)', 'wFC/C (sc)', 'wFS/C (sc)', 'wFO/C (sc)', 'wSI/C (sc)', 'wSL/C (sc)', 'wCU/C (sc)', 'wKC/C (sc)', 'wEP/C (sc)', 'wCH/C (sc)', 'wSC/C (sc)', 'wKN/C (sc)', 'O-Swing% (sc)', 'Z-Swing% (sc)', 'Swing% (sc)', 'O-Contact% (sc)', 'Z-Contact% (sc)', 'Contact% (sc)', 'Zone% (sc)', 'Pace', 'RA9-WAR', 'BIP-Wins', 'LOB-Wins', 'FDP-Wins', 'Age Rng', 'K-BB%', 'Pull%', 'Cent%', 'Oppo%', 'Soft%', 'Med%', 'Hard%', 'kwERA', 'TTO%', 'CH% (pi)', 'CS% (pi)', 'CU% (pi)', 'FA% (pi)', 'FC% (pi)', 'FS% (pi)', 'KN% (pi)', 'SB% (pi)', 'SI% (pi)', 'SL% (pi)', 'XX% (pi)', 'vCH (pi)', 'vCS (pi)', 'vCU (pi)', 'vFA (pi)', 'vFC (pi)', 'vFS (pi)', 'vKN (pi)', 'vSB (pi)', 'vSI (pi)', 'vSL (pi)', 'vXX (pi)', 'CH-X (pi)', 'CS-X (pi)', 'CU-X (pi)', 'FA-X (pi)', 'FC-X (pi)', 'FS-X (pi)', 'KN-X (pi)', 'SB-X (pi)', 'SI-X (pi)', 'SL-X (pi)', 'XX-X (pi)', 'CH-Z (pi)', 'CS-Z (pi)', 'CU-Z (pi)', 'FA-Z (pi)', 'FC-Z (pi)', 'FS-Z (pi)', 'KN-Z (pi)', 'SB-Z (pi)', 'SI-Z (pi)', 'SL-Z (pi)', 'XX-Z (pi)', 'wCH (pi)', 'wCS (pi)', 'wCU (pi)', 'wFA (pi)', 'wFC (pi)', 'wFS (pi)', 'wKN (pi)', 'wSB (pi)', 'wSI (pi)', 'wSL (pi)', 'wXX (pi)', 'wCH/C (pi)', 'wCS/C (pi)', 'wCU/C (pi)', 'wFA/C (pi)', 'wFC/C (pi)', 'wFS/C (pi)', 'wKN/C (pi)', 'wSB/C (pi)', 'wSI/C (pi)', 'wSL/C (pi)', 'wXX/C (pi)', 'O-Swing% (pi)', 'Z-Swing% (pi)', 'Swing% (pi)', 'O-Contact% (pi)', 'Z-Contact% (pi)', 'Contact% (pi)', 'Zone% (pi)', 'Pace (pi)', 'FRM', 'K/9+', 'BB/9+', 'K/BB+', 'H/9+', 'HR/9+', 'AVG+', 'WHIP+', 'BABIP+', 'LOB%+', 'K%+', 'BB%+', 'LD%+', 'GB%+', 'FB%+', 'HR/FB%+', 'Pull%+', 'Cent%+', 'Oppo%+', 'Soft%+', 'Med%+', 'Hard%+', 'EV', 'LA', 'Barrels', 'Barrel%', 'maxEV', 'HardHit', 'HardHit%', 'Events', 'CStr%', 'CSW%', 'xERA', 'botERA', 'botOvr CH', 'botStf CH', 'botCmd CH', 'botOvr CU', 'botStf CU', 'botCmd CU', 'botOvr FA', 'botStf FA', 'botCmd FA', 'botOvr SI', 'botStf SI', 'botCmd SI', 'botOvr SL', 'botStf SL', 'botCmd SL', 'botOvr KC', 'botStf KC', 'botCmd KC', 'botOvr FC', 'botStf FC', 'botCmd FC', 'botOvr FS', 'botStf FS', 'botCmd FS', 'botOvr', 'botStf', 'botCmd', 'botxRV100', 'Stf+ CH', 'Loc+ CH', 'Pit+ CH', 'Stf+ CU', 'Loc+ CU', 'Pit+ CU', 'Stf+ FA', 'Loc+ FA', 'Pit+ FA', 'Stf+ SI', 'Loc+ SI', 'Pit+ SI', 'Stf+ SL', 'Loc+ SL', 'Pit+ SL', 'Stf+ KC', 'Loc+ KC', 'Pit+ KC', 'Stf+ FC', 'Loc+ FC', 'Pit+ FC', 'Stf+ FS', 'Loc+ FS', 'Pit+ FS', 'Stuff+', 'Location+', 'Pitching+', 'Stf+ FO', 'Loc+ FO', 'Pit+ FO']\n",
            "\n",
            "Top 8 pitchers based on innings pitched:\n",
            "1. Aaron Nola\n",
            "2. Kevin Gausman\n",
            "3. Gerrit Cole\n",
            "4. Justin Verlander\n",
            "5. Jose Berrios\n",
            "6. Patrick Corbin\n",
            "7. Jose Quintana\n",
            "8. Max Scherzer\n"
          ]
        }
      ],
      "source": [
        "# this function gets the top pitchers\n",
        "\n",
        "def get_top_pitchers(start_year=START_YEAR, end_year=END_YEAR, top_n=TOP_N_PITCHERS):\n",
        "    all_pitchers = []\n",
        "    for year in range(start_year, end_year + 1):\n",
        "        try:\n",
        "            df = pitching_stats(year)\n",
        "            all_pitchers.append(df)\n",
        "        except Exception as e:\n",
        "            print(f\"Error fetching data for year {year}: {e}\")\n",
        "\n",
        "    if not all_pitchers:\n",
        "        print(\"No data fetched. Please check the data source or parameters.\")\n",
        "        return []\n",
        "\n",
        "    combined_df = pd.concat(all_pitchers, ignore_index=True)\n",
        "\n",
        "    combined_df.columns = combined_df.columns.str.strip()\n",
        "\n",
        "    print(\"\\nColumns in the combined data:\")\n",
        "    print(combined_df.columns.tolist())\n",
        "\n",
        "    required_columns = ['Name', 'IP']\n",
        "    for col in required_columns:\n",
        "        if col not in combined_df.columns:\n",
        "            print(f\"Required column '{col}' is missing in the data.\")\n",
        "            return []\n",
        "\n",
        "\n",
        "    innings_pitched = combined_df.groupby('Name')['IP'].sum().reset_index()\n",
        "\n",
        "    top_pitchers = innings_pitched.sort_values(by='IP', ascending=False).head(top_n)['Name'].tolist()\n",
        "\n",
        "    print(f\"\\nTop {top_n} pitchers based on innings pitched:\")\n",
        "    for idx, pitcher in enumerate(top_pitchers, 1):\n",
        "        print(f\"{idx}. {pitcher}\")\n",
        "\n",
        "    return top_pitchers\n",
        "\n",
        "top_pitchers = get_top_pitchers()\n"
      ]
    },
    {
      "cell_type": "code",
      "execution_count": null,
      "metadata": {
        "colab": {
          "base_uri": "https://localhost:8080/"
        },
        "id": "LQDPxn5ajnOZ",
        "outputId": "ca1d484c-97c6-465f-8c78-6a7331a5db0d"
      },
      "outputs": [
        {
          "output_type": "stream",
          "name": "stdout",
          "text": [
            "Gathering player lookup table. This may take a moment.\n",
            "{'Aaron Nola': 605400, 'Kevin Gausman': 592332, 'Gerrit Cole': 543037, 'Justin Verlander': 434378, 'Jose Berrios': 621244, 'Max Scherzer': 453286}\n"
          ]
        }
      ],
      "source": [
        "# error with data of corbin and quintana (although code outputs show them), so only got the id 6 of the top 8 pitchers\n",
        "\n",
        "START_GAME = '<START_GAME>'\n",
        "START_INNING = '<START_INNING>'\n",
        "START_ATBAT = '<START_ATBAT>'\n",
        "\n",
        "name_to_id = {}\n",
        "\n",
        "name_to_id['Aaron Nola'] = playerid_lookup('nola', 'aaron')['key_mlbam'][0]\n",
        "name_to_id['Kevin Gausman'] = playerid_lookup('gausman', 'kevin')['key_mlbam'][0]\n",
        "name_to_id['Gerrit Cole'] = playerid_lookup('cole', 'gerrit')['key_mlbam'][0]\n",
        "name_to_id['Justin Verlander'] = playerid_lookup('verlander', 'justin')['key_mlbam'][0]\n",
        "name_to_id['Jose Berrios'] = playerid_lookup('berríos', 'josé')['key_mlbam'][0]\n",
        "name_to_id['Max Scherzer'] = playerid_lookup('scherzer', 'max')['key_mlbam'][0]\n",
        "\n",
        "print(name_to_id)"
      ]
    },
    {
      "cell_type": "code",
      "execution_count": null,
      "metadata": {
        "id": "G6VLgzCXYYtw"
      },
      "outputs": [],
      "source": [
        "warnings.filterwarnings(\"ignore\", category=pd.errors.DtypeWarning)\n",
        "\n",
        "# gets pitch data\n",
        "\n",
        "def get_all_pitch_data(player_name, start_year, end_year, name_to_id):\n",
        "    mlbam_id = name_to_id[player_name]\n",
        "    data = statcast_pitcher(start_dt=f'{start_year}-01-01', end_dt=f'{end_year}-10-05', player_id=mlbam_id)\n",
        "\n",
        "    columns_to_keep = [\n",
        "            'pitch_type', 'balls', 'strikes', 'outs_when_up', 'fld_score', 'bat_score',\n",
        "            'stand', 'p_throws', 'inning', 'description', 'on_1b', 'on_2b', 'on_3b', 'game_year', 'game_date'\n",
        "        ]\n",
        "    data = data[columns_to_keep].copy()\n",
        "\n",
        "    pitch_mapping = {\n",
        "        'FF': 'Fastball', 'SI': 'Fastball', 'IN': 'Fastball', 'EP': 'Fastball',\n",
        "        'FC': 'Fastball', 'PO': 'Fastball',  # Fastballs\n",
        "        'SL': 'Breaking Ball', 'CU': 'Breaking Ball', 'KC': 'Breaking Ball', 'SV': 'Breaking Ball', 'ST': 'Breaking Ball', # Breaking Balls\n",
        "        'CH': 'Off Speed', 'FS': 'Off Speed', 'FO': 'Off Speed'  # Offspeeds\n",
        "    }\n",
        "\n",
        "    data['pitch_type'] = data['pitch_type'].map(pitch_mapping).fillna('Fastball')\n",
        "\n",
        "    counter = 0\n",
        "    counters = [None] * len(data)\n",
        "\n",
        "    for i in range(len(data) - 1, -1, -1):\n",
        "        row = data.iloc[i]\n",
        "        if row['balls'] == 0 and row['strikes'] == 0:\n",
        "            counter += 1\n",
        "        counters[i] = counter\n",
        "\n",
        "    data['at_bat'] = counters\n",
        "    return data\n"
      ]
    },
    {
      "cell_type": "markdown",
      "source": [
        "# SECTION 2.1 - OPTIONAL*\n",
        "\n",
        "**YOU DO NOT NEED TO RUN THIS CELL, ONLY IF YOU WANT TO SAVE THE DATA YOURSELF, BUT IT IS PROVIDED IN THE PKL FILES**\n",
        "\n",
        "This process was already done by our team to save time in fetching data from pybaseball"
      ],
      "metadata": {
        "id": "VPPVTnSB8wMd"
      }
    },
    {
      "cell_type": "code",
      "execution_count": null,
      "metadata": {
        "colab": {
          "base_uri": "https://localhost:8080/",
          "height": 426
        },
        "id": "O0eDUhyptEPo",
        "outputId": "bb9e4577-6468-4777-8a31-53cf061607ab",
        "collapsed": true
      },
      "outputs": [
        {
          "ename": "KeyboardInterrupt",
          "evalue": "",
          "output_type": "error",
          "traceback": [
            "\u001b[0;31m---------------------------------------------------------------------------\u001b[0m",
            "\u001b[0;31mKeyboardInterrupt\u001b[0m                         Traceback (most recent call last)",
            "\u001b[0;32m<ipython-input-8-f81535affdfb>\u001b[0m in \u001b[0;36m<cell line: 3>\u001b[0;34m()\u001b[0m\n\u001b[1;32m      1\u001b[0m \u001b[0;31m#### Save pitcher data to google drive\u001b[0m\u001b[0;34m\u001b[0m\u001b[0;34m\u001b[0m\u001b[0m\n\u001b[1;32m      2\u001b[0m \u001b[0;32mfrom\u001b[0m \u001b[0mgoogle\u001b[0m\u001b[0;34m.\u001b[0m\u001b[0mcolab\u001b[0m \u001b[0;32mimport\u001b[0m \u001b[0mdrive\u001b[0m\u001b[0;34m\u001b[0m\u001b[0;34m\u001b[0m\u001b[0m\n\u001b[0;32m----> 3\u001b[0;31m \u001b[0mdrive\u001b[0m\u001b[0;34m.\u001b[0m\u001b[0mmount\u001b[0m\u001b[0;34m(\u001b[0m\u001b[0;34m'/content/drive'\u001b[0m\u001b[0;34m)\u001b[0m\u001b[0;34m\u001b[0m\u001b[0;34m\u001b[0m\u001b[0m\n\u001b[0m\u001b[1;32m      4\u001b[0m \u001b[0;34m\u001b[0m\u001b[0m\n\u001b[1;32m      5\u001b[0m \u001b[0;32mfor\u001b[0m \u001b[0mpitcher\u001b[0m \u001b[0;32min\u001b[0m \u001b[0mname_to_id\u001b[0m\u001b[0;34m:\u001b[0m\u001b[0;34m\u001b[0m\u001b[0;34m\u001b[0m\u001b[0m\n",
            "\u001b[0;32m/usr/local/lib/python3.10/dist-packages/google/colab/drive.py\u001b[0m in \u001b[0;36mmount\u001b[0;34m(mountpoint, force_remount, timeout_ms, readonly)\u001b[0m\n\u001b[1;32m     98\u001b[0m \u001b[0;32mdef\u001b[0m \u001b[0mmount\u001b[0m\u001b[0;34m(\u001b[0m\u001b[0mmountpoint\u001b[0m\u001b[0;34m,\u001b[0m \u001b[0mforce_remount\u001b[0m\u001b[0;34m=\u001b[0m\u001b[0;32mFalse\u001b[0m\u001b[0;34m,\u001b[0m \u001b[0mtimeout_ms\u001b[0m\u001b[0;34m=\u001b[0m\u001b[0;36m120000\u001b[0m\u001b[0;34m,\u001b[0m \u001b[0mreadonly\u001b[0m\u001b[0;34m=\u001b[0m\u001b[0;32mFalse\u001b[0m\u001b[0;34m)\u001b[0m\u001b[0;34m:\u001b[0m\u001b[0;34m\u001b[0m\u001b[0;34m\u001b[0m\u001b[0m\n\u001b[1;32m     99\u001b[0m   \u001b[0;34m\"\"\"Mount your Google Drive at the specified mountpoint path.\"\"\"\u001b[0m\u001b[0;34m\u001b[0m\u001b[0;34m\u001b[0m\u001b[0m\n\u001b[0;32m--> 100\u001b[0;31m   return _mount(\n\u001b[0m\u001b[1;32m    101\u001b[0m       \u001b[0mmountpoint\u001b[0m\u001b[0;34m,\u001b[0m\u001b[0;34m\u001b[0m\u001b[0;34m\u001b[0m\u001b[0m\n\u001b[1;32m    102\u001b[0m       \u001b[0mforce_remount\u001b[0m\u001b[0;34m=\u001b[0m\u001b[0mforce_remount\u001b[0m\u001b[0;34m,\u001b[0m\u001b[0;34m\u001b[0m\u001b[0;34m\u001b[0m\u001b[0m\n",
            "\u001b[0;32m/usr/local/lib/python3.10/dist-packages/google/colab/drive.py\u001b[0m in \u001b[0;36m_mount\u001b[0;34m(mountpoint, force_remount, timeout_ms, ephemeral, readonly)\u001b[0m\n\u001b[1;32m    255\u001b[0m \u001b[0;34m\u001b[0m\u001b[0m\n\u001b[1;32m    256\u001b[0m   \u001b[0;32mwhile\u001b[0m \u001b[0;32mTrue\u001b[0m\u001b[0;34m:\u001b[0m\u001b[0;34m\u001b[0m\u001b[0;34m\u001b[0m\u001b[0m\n\u001b[0;32m--> 257\u001b[0;31m     case = d.expect([\n\u001b[0m\u001b[1;32m    258\u001b[0m         \u001b[0msuccess\u001b[0m\u001b[0;34m,\u001b[0m\u001b[0;34m\u001b[0m\u001b[0;34m\u001b[0m\u001b[0m\n\u001b[1;32m    259\u001b[0m         \u001b[0mprompt\u001b[0m\u001b[0;34m,\u001b[0m\u001b[0;34m\u001b[0m\u001b[0;34m\u001b[0m\u001b[0m\n",
            "\u001b[0;32m/usr/local/lib/python3.10/dist-packages/pexpect/spawnbase.py\u001b[0m in \u001b[0;36mexpect\u001b[0;34m(self, pattern, timeout, searchwindowsize, async_, **kw)\u001b[0m\n\u001b[1;32m    352\u001b[0m \u001b[0;34m\u001b[0m\u001b[0m\n\u001b[1;32m    353\u001b[0m         \u001b[0mcompiled_pattern_list\u001b[0m \u001b[0;34m=\u001b[0m \u001b[0mself\u001b[0m\u001b[0;34m.\u001b[0m\u001b[0mcompile_pattern_list\u001b[0m\u001b[0;34m(\u001b[0m\u001b[0mpattern\u001b[0m\u001b[0;34m)\u001b[0m\u001b[0;34m\u001b[0m\u001b[0;34m\u001b[0m\u001b[0m\n\u001b[0;32m--> 354\u001b[0;31m         return self.expect_list(compiled_pattern_list,\n\u001b[0m\u001b[1;32m    355\u001b[0m                 timeout, searchwindowsize, async_)\n\u001b[1;32m    356\u001b[0m \u001b[0;34m\u001b[0m\u001b[0m\n",
            "\u001b[0;32m/usr/local/lib/python3.10/dist-packages/pexpect/spawnbase.py\u001b[0m in \u001b[0;36mexpect_list\u001b[0;34m(self, pattern_list, timeout, searchwindowsize, async_, **kw)\u001b[0m\n\u001b[1;32m    381\u001b[0m             \u001b[0;32mreturn\u001b[0m \u001b[0mexpect_async\u001b[0m\u001b[0;34m(\u001b[0m\u001b[0mexp\u001b[0m\u001b[0;34m,\u001b[0m \u001b[0mtimeout\u001b[0m\u001b[0;34m)\u001b[0m\u001b[0;34m\u001b[0m\u001b[0;34m\u001b[0m\u001b[0m\n\u001b[1;32m    382\u001b[0m         \u001b[0;32melse\u001b[0m\u001b[0;34m:\u001b[0m\u001b[0;34m\u001b[0m\u001b[0;34m\u001b[0m\u001b[0m\n\u001b[0;32m--> 383\u001b[0;31m             \u001b[0;32mreturn\u001b[0m \u001b[0mexp\u001b[0m\u001b[0;34m.\u001b[0m\u001b[0mexpect_loop\u001b[0m\u001b[0;34m(\u001b[0m\u001b[0mtimeout\u001b[0m\u001b[0;34m)\u001b[0m\u001b[0;34m\u001b[0m\u001b[0;34m\u001b[0m\u001b[0m\n\u001b[0m\u001b[1;32m    384\u001b[0m \u001b[0;34m\u001b[0m\u001b[0m\n\u001b[1;32m    385\u001b[0m     def expect_exact(self, pattern_list, timeout=-1, searchwindowsize=-1,\n",
            "\u001b[0;32m/usr/local/lib/python3.10/dist-packages/pexpect/expect.py\u001b[0m in \u001b[0;36mexpect_loop\u001b[0;34m(self, timeout)\u001b[0m\n\u001b[1;32m    169\u001b[0m                 \u001b[0mincoming\u001b[0m \u001b[0;34m=\u001b[0m \u001b[0mspawn\u001b[0m\u001b[0;34m.\u001b[0m\u001b[0mread_nonblocking\u001b[0m\u001b[0;34m(\u001b[0m\u001b[0mspawn\u001b[0m\u001b[0;34m.\u001b[0m\u001b[0mmaxread\u001b[0m\u001b[0;34m,\u001b[0m \u001b[0mtimeout\u001b[0m\u001b[0;34m)\u001b[0m\u001b[0;34m\u001b[0m\u001b[0;34m\u001b[0m\u001b[0m\n\u001b[1;32m    170\u001b[0m                 \u001b[0;32mif\u001b[0m \u001b[0mself\u001b[0m\u001b[0;34m.\u001b[0m\u001b[0mspawn\u001b[0m\u001b[0;34m.\u001b[0m\u001b[0mdelayafterread\u001b[0m \u001b[0;32mis\u001b[0m \u001b[0;32mnot\u001b[0m \u001b[0;32mNone\u001b[0m\u001b[0;34m:\u001b[0m\u001b[0;34m\u001b[0m\u001b[0;34m\u001b[0m\u001b[0m\n\u001b[0;32m--> 171\u001b[0;31m                     \u001b[0mtime\u001b[0m\u001b[0;34m.\u001b[0m\u001b[0msleep\u001b[0m\u001b[0;34m(\u001b[0m\u001b[0mself\u001b[0m\u001b[0;34m.\u001b[0m\u001b[0mspawn\u001b[0m\u001b[0;34m.\u001b[0m\u001b[0mdelayafterread\u001b[0m\u001b[0;34m)\u001b[0m\u001b[0;34m\u001b[0m\u001b[0;34m\u001b[0m\u001b[0m\n\u001b[0m\u001b[1;32m    172\u001b[0m                 \u001b[0midx\u001b[0m \u001b[0;34m=\u001b[0m \u001b[0mself\u001b[0m\u001b[0;34m.\u001b[0m\u001b[0mnew_data\u001b[0m\u001b[0;34m(\u001b[0m\u001b[0mincoming\u001b[0m\u001b[0;34m)\u001b[0m\u001b[0;34m\u001b[0m\u001b[0;34m\u001b[0m\u001b[0m\n\u001b[1;32m    173\u001b[0m                 \u001b[0;31m# Keep reading until exception or return.\u001b[0m\u001b[0;34m\u001b[0m\u001b[0;34m\u001b[0m\u001b[0m\n",
            "\u001b[0;31mKeyboardInterrupt\u001b[0m: "
          ]
        }
      ],
      "source": [
        "# run this cell to save the data to google drive\n",
        "\n",
        "from google.colab import drive\n",
        "drive.mount('/content/drive')\n",
        "\n",
        "for pitcher in name_to_id:\n",
        "  print(f'{pitcher}')\n",
        "  player_data = get_all_pitch_data(pitcher, 2016, 2024, name_to_id=name_to_id)\n",
        "  name = pitcher.replace(\" \", \"_\")\n",
        "  print(f'/content/drive/MyDrive/{name}.pkl')\n",
        "\n",
        "  player_data.to_pickle(f'/content/drive/MyDrive/{name}.pkl')\n"
      ]
    },
    {
      "cell_type": "markdown",
      "source": [
        "# SECTION 3 - USING DATA FROM PKL\n",
        "\n",
        "**How to load data from google drive; run this whole section**\n",
        "\n",
        "1) put the downloaded pkl files from the zip into your google drive\n",
        "\n",
        "2) connect drive to collab\n",
        "\n",
        "3) run this cell to get the data into collab"
      ],
      "metadata": {
        "id": "dL1B4INg7KIi"
      }
    },
    {
      "cell_type": "code",
      "execution_count": null,
      "metadata": {
        "colab": {
          "base_uri": "https://localhost:8080/"
        },
        "id": "lMEk_Z5ntXZ5",
        "outputId": "1281c481-c9c0-4159-a85e-bdba8449c80b"
      },
      "outputs": [
        {
          "output_type": "stream",
          "name": "stdout",
          "text": [
            "Mounted at /content/drive\n",
            "      pitch_type  balls  strikes  outs_when_up  fld_score  bat_score stand  \\\n",
            "0       Fastball      0        2             2          2          3     L   \n",
            "1       Fastball      0        1             2          2          3     L   \n",
            "2  Breaking Ball      0        0             2          2          3     L   \n",
            "3       Fastball      0        1             1          2          3     R   \n",
            "4       Fastball      0        0             1          2          3     R   \n",
            "\n",
            "  p_throws  inning      description  on_1b  on_2b  on_3b  game_year  \\\n",
            "0        R       6  swinging_strike    NaN    NaN    NaN       2021   \n",
            "1        R       6  swinging_strike    NaN    NaN    NaN       2021   \n",
            "2        R       6    called_strike    NaN    NaN    NaN       2021   \n",
            "3        R       6    hit_into_play    NaN    NaN    NaN       2021   \n",
            "4        R       6             foul    NaN    NaN    NaN       2021   \n",
            "\n",
            "    game_date  at_bat  \n",
            "0  2021-09-29    7125  \n",
            "1  2021-09-29    7125  \n",
            "2  2021-09-29    7125  \n",
            "3  2021-09-29    7124  \n",
            "4  2021-09-29    7124  \n"
          ]
        }
      ],
      "source": [
        "# get the data from google drive\n",
        "\n",
        "from google.colab import drive\n",
        "drive.mount('/content/drive')\n",
        "\n",
        "def load_pitcher_data(pitcher_name):\n",
        "  name = pitcher_name.replace(\" \", \"_\")\n",
        "  df = pd.read_pickle(f'/content/drive/MyDrive/{name}.pkl')\n",
        "  return df\n",
        "\n",
        "# test if it loaded correctly\n",
        "dat = load_pitcher_data('Aaron Nola')\n",
        "print(dat.head(5))"
      ]
    },
    {
      "cell_type": "markdown",
      "source": [
        "# SECTION 4 - DEFINING FUNCTIONS FOR MODELS\n",
        "\n",
        "**Run all cells**"
      ],
      "metadata": {
        "id": "JMwF6emd8B6g"
      }
    },
    {
      "cell_type": "code",
      "execution_count": null,
      "metadata": {
        "id": "ACfe1CvjYaai"
      },
      "outputs": [],
      "source": [
        "# all different sentence functions\n",
        "\n",
        "def convert_pitch_to_long_sentence(pitch):\n",
        "  \"\"\"\n",
        "  pitch: row in PD dataframe\n",
        "  \"\"\"\n",
        "  runners_on = []\n",
        "  if pitch['on_1b'] == 1:\n",
        "      runners_on.append(\"first\")\n",
        "  if pitch['on_2b'] == 1:\n",
        "      runners_on.append(\"second\")\n",
        "  if pitch['on_3b'] == 1:\n",
        "      runners_on.append(\"third\")\n",
        "\n",
        "  if runners_on:\n",
        "        bases = \" and \".join(runners_on) + \" base(s)\"\n",
        "  else:\n",
        "      bases = \"no base\"\n",
        "\n",
        "  pitch_type = pitch['pitch_type']\n",
        "  balls = pitch['balls']\n",
        "  strikes = pitch['strikes']\n",
        "  outs = pitch['outs_when_up']\n",
        "  score = pitch['fld_score']\n",
        "  bat_score = pitch['bat_score']\n",
        "  fld_score = pitch['fld_score']\n",
        "  stand = pitch['stand']\n",
        "  p_throws = pitch['p_throws']\n",
        "  inning = pitch['inning']\n",
        "  description = pitch['description']\n",
        "  game_year = pitch['game_year']\n",
        "\n",
        "  sentence = (f\"In inning {inning}, with {balls} balls, {strikes} strikes, \"\n",
        "        f\"and {outs} outs, the batter, in a {stand}-handed stance, \"\n",
        "        f\"faced a {p_throws}-handed pitcher. The field score was {fld_score}, \"\n",
        "        f\"and the batter score was {bat_score}. There were runners on {bases}, \"\n",
        "        f\"and the pitch type was {pitch_type}, resulting in {description}.\"\n",
        "  )\n",
        "\n",
        "  return sentence\n",
        "\n",
        "def convert_pitch_to_short_sentence(pitch):\n",
        "  pitch_type = pitch['pitch_type']\n",
        "  balls = pitch['balls']\n",
        "  strikes = pitch['strikes']\n",
        "  description = pitch['description']\n",
        "\n",
        "  sentence = (f\"With {balls} balls and {strikes} strikes, \"\n",
        "        f\"Pitcher throws a pitch with pitch type {pitch_type}, resulting in {description}.\"\n",
        "  )\n",
        "\n",
        "  return sentence\n",
        "\n",
        "def just_ball_strike(pitch):\n",
        "  pitch_type = pitch['pitch_type']\n",
        "  balls = pitch['balls']\n",
        "  strikes = pitch['strikes']\n",
        "  description = pitch['description']\n",
        "\n",
        "  sentence = (f\"{balls} - {strikes}: {pitch_type}\"\n",
        "  )\n",
        "\n",
        "  return sentence\n",
        "\n",
        "def just_pitch_type(pitch):\n",
        "  pitch_type = pitch['pitch_type']\n",
        "  return pitch_type\n",
        "\n",
        "def features_only_no_other_words(pitch):\n",
        "  \"\"\"\n",
        "  pitch: row in PD dataframe\n",
        "  \"\"\"\n",
        "  runners_on = []\n",
        "  if pitch['on_1b'] == 1:\n",
        "      runners_on.append(\"first\")\n",
        "  if pitch['on_2b'] == 1:\n",
        "      runners_on.append(\"second\")\n",
        "  if pitch['on_3b'] == 1:\n",
        "      runners_on.append(\"third\")\n",
        "\n",
        "  if runners_on:\n",
        "        bases = \" and \".join(runners_on) + \" base(s)\"\n",
        "  else:\n",
        "      bases = \"no base\"\n",
        "\n",
        "  pitch_type = pitch['pitch_type']\n",
        "  balls = pitch['balls']\n",
        "  strikes = pitch['strikes']\n",
        "  outs = pitch['outs_when_up']\n",
        "  score = pitch['fld_score']\n",
        "  bat_score = pitch['bat_score']\n",
        "  fld_score = pitch['fld_score']\n",
        "  stand = pitch['stand']\n",
        "  p_throws = pitch['p_throws']\n",
        "  inning = pitch['inning']\n",
        "  description = pitch['description']\n",
        "  game_year = pitch['game_year']\n",
        "\n",
        "  sentence = (f\"{inning} {balls} {strikes} {outs} {stand} {p_throws} {fld_score} {bat_score} {bases} {pitch_type} {description}\"\n",
        "  )\n",
        "\n",
        "  return sentence\n",
        "\n",
        "def get_pitch_sentence_df(player_data, sentence_func):\n",
        "  player_data['nlp_pitch_description'] = player_data.apply(sentence_func, axis=1)\n",
        "\n",
        "  new_df = player_data[['pitch_type', 'at_bat', 'nlp_pitch_description']].copy()\n",
        "\n",
        "  return new_df[::-1].reset_index(drop=True)"
      ]
    },
    {
      "cell_type": "code",
      "execution_count": null,
      "metadata": {
        "id": "xNKdV5QyfwrU"
      },
      "outputs": [],
      "source": [
        "# function to train model\n",
        "\n",
        "def train_model(player, context_size, sentence_func, train_size, test_size):\n",
        "  player_data = load_pitcher_data(player)\n",
        "\n",
        "  data = get_pitch_sentence_df(player_data, sentence_func)\n",
        "\n",
        "  def create_context_data_sliding(final_df, window_size):\n",
        "      samples = []\n",
        "      for i in range(0, len(final_df) - window_size):\n",
        "          context = \" \".join(final_df.iloc[i + j]['nlp_pitch_description'] for j in range(window_size))\n",
        "          target_pitch = final_df.iloc[i + window_size]['pitch_type']\n",
        "          samples.append((context, target_pitch))\n",
        "      return samples\n",
        "\n",
        "  context_samples = create_context_data_sliding(data, context_size)\n",
        "\n",
        "  train_samples, test_samples = train_test_split(context_samples, train_size = train_size, test_size=test_size, random_state=42)\n",
        "\n",
        "  pitch_types = data['pitch_type'].unique().tolist()\n",
        "  label2id = {pitch: idx for idx, pitch in enumerate(pitch_types)}\n",
        "  id2label = {idx: pitch for pitch, idx in label2id.items()}\n",
        "\n",
        "  train_contexts, train_targets = zip(*train_samples)\n",
        "  test_contexts, test_targets = zip(*test_samples)\n",
        "\n",
        "  train_labels = [label2id[target] for target in train_targets]\n",
        "  test_labels = [label2id[target] for target in test_targets]\n",
        "\n",
        "  tokenizer = GPT2Tokenizer.from_pretrained(\"gpt2\")\n",
        "  tokenizer.add_special_tokens({'pad_token': '[PAD]'})  # Add a pad token\n",
        "\n",
        "  model = GPT2ForSequenceClassification.from_pretrained(\"gpt2\", num_labels=len(pitch_types))\n",
        "  model.resize_token_embeddings(len(tokenizer))  # Resize embeddings to match tokenizer\n",
        "\n",
        "  model.config.pad_token_id = tokenizer.pad_token_id  # Add this line\n",
        "\n",
        "  def tokenize_function(contexts):\n",
        "      return tokenizer(\n",
        "          list(contexts),\n",
        "          padding=True,\n",
        "          truncation=True,\n",
        "          max_length=512\n",
        "      )\n",
        "\n",
        "  train_encodings = tokenize_function(train_contexts)\n",
        "  test_encodings = tokenize_function(test_contexts)\n",
        "\n",
        "  class PitchClassificationDataset(torch.utils.data.Dataset):\n",
        "      def __init__(self, encodings, labels):\n",
        "          self.encodings = encodings\n",
        "          self.labels = labels\n",
        "\n",
        "      def __getitem__(self, idx):\n",
        "          item = {key: torch.tensor(val[idx]) for key, val in self.encodings.items()}\n",
        "          item['labels'] = torch.tensor(self.labels[idx])\n",
        "          return item\n",
        "\n",
        "      def __len__(self):\n",
        "          return len(self.labels)\n",
        "\n",
        "  train_dataset = PitchClassificationDataset(train_encodings, train_labels)\n",
        "  test_dataset = PitchClassificationDataset(test_encodings, test_labels)\n",
        "\n",
        "  def compute_metrics_classification(eval_pred):\n",
        "      logits, labels = eval_pred\n",
        "      predictions = np.argmax(logits, axis=1)\n",
        "      acc = accuracy_score(labels, predictions)\n",
        "      f1 = f1_score(labels, predictions, average='weighted')\n",
        "      return {'accuracy': acc, 'f1': f1}\n",
        "\n",
        "  training_args = TrainingArguments(\n",
        "      output_dir=\"./results\",\n",
        "      per_device_train_batch_size=16,\n",
        "      per_device_eval_batch_size=16,\n",
        "      num_train_epochs=3,\n",
        "      logging_dir=\"./logs\",\n",
        "      logging_steps=50,\n",
        "      eval_strategy=\"steps\",\n",
        "      eval_steps=500,\n",
        "      save_steps=500,\n",
        "      save_total_limit=2,\n",
        "      load_best_model_at_end=True,\n",
        "      metric_for_best_model=\"accuracy\",\n",
        "      greater_is_better=True,\n",
        "  )\n",
        "\n",
        "  trainer = Trainer(\n",
        "      model=model,\n",
        "      args=training_args,\n",
        "      train_dataset=train_dataset,\n",
        "      eval_dataset=test_dataset,\n",
        "      compute_metrics=compute_metrics_classification,\n",
        "  )\n",
        "\n",
        "  trainer.train()\n",
        "\n",
        "  eval_results = trainer.evaluate()\n",
        "  print(f\"{player} Evaluation results with {sentence_func} and context_size {context_size}:\", eval_results)\n",
        "  return eval_results['eval_accuracy']\n"
      ]
    },
    {
      "cell_type": "markdown",
      "source": [
        "# SECTION 5 - RUNNING MODELS\n",
        "\n",
        "**How to run the models: REQUIRES USER TO COPY AND PASTE**\n",
        "\n",
        "1) run the initilization cell below which stores all the accuracies\n",
        "\n",
        "2) run the unigram models to obtain a baseline\n",
        "\n",
        "3) follow the commented out format and copy and paste to run the models\n",
        "\n",
        "4) for *CONTEXT_SIZE*, choose between [2, 4, 6, 8, 10, 12, 16] because 0 is unigram model\n",
        "\n",
        "5) for *TYPE_OF_SENTENCE*, choose between [convert_pitch_to_long_sentence, convert_pitch_to_short_sentence, just_ball_strike, just_pitch_type, features_only_no_other_words]\n",
        "\n",
        "NOTE: only one example model was shown because model training time takes 20-30 mins, and 70+ models were trained\n",
        "\n",
        "NOTE: you also need to make a wandb.ai account to use the api, it is free and you follow the directions when running the model with the above format\n",
        "\n",
        "NOTE: all the data and statistics are saved in the google sheet\n",
        "\n",
        "EX: there is an example below with *CONTEXT_SIZE* of 8 with *TYPE_OF SENTENCE* of convert_pitch_to_short_sentence"
      ],
      "metadata": {
        "id": "HprJrDGz3IfJ"
      }
    },
    {
      "cell_type": "code",
      "execution_count": null,
      "metadata": {
        "colab": {
          "base_uri": "https://localhost:8080/"
        },
        "id": "kY7cbe4SHiD0",
        "outputId": "07c4a9f0-21a8-4708-c62d-3d3ed1d507b2"
      },
      "outputs": [
        {
          "output_type": "stream",
          "name": "stdout",
          "text": [
            "Aaron Nola\n",
            "Kevin Gausman\n",
            "Gerrit Cole\n",
            "Justin Verlander\n",
            "Jose Berrios\n",
            "Max Scherzer\n"
          ]
        }
      ],
      "source": [
        "# initialize the accuracies dictionary for trained models\n",
        "\n",
        "pitcher_accuracies = {}\n",
        "\n",
        "for pitcher in name_to_id.keys():\n",
        "  print(pitcher)\n",
        "  pitcher_accuracies[pitcher] = {-1: \"initialized\"}"
      ]
    },
    {
      "cell_type": "code",
      "execution_count": null,
      "metadata": {
        "colab": {
          "base_uri": "https://localhost:8080/"
        },
        "id": "9IAH0CFovRTd",
        "outputId": "e13a4c2f-3c1e-4fee-fb1a-55d5ae38665d"
      },
      "outputs": [
        {
          "output_type": "stream",
          "name": "stdout",
          "text": [
            "Most common pitch for Aaron Nola: Fastball\n",
            "Accuracy of predicting Fastball for Aaron Nola: 47.33%\n",
            "\n",
            "\n",
            "Most common pitch for Kevin Gausman: Fastball\n",
            "Accuracy of predicting Fastball for Kevin Gausman: 56.00%\n",
            "\n",
            "\n",
            "Most common pitch for Gerrit Cole: Fastball\n",
            "Accuracy of predicting Fastball for Gerrit Cole: 57.67%\n",
            "\n",
            "\n",
            "Most common pitch for Justin Verlander: Fastball\n",
            "Accuracy of predicting Fastball for Justin Verlander: 56.33%\n",
            "\n",
            "\n",
            "Most common pitch for Jose Berrios: Fastball\n",
            "Accuracy of predicting Fastball for Jose Berrios: 54.00%\n",
            "\n",
            "\n",
            "Most common pitch for Max Scherzer: Fastball\n",
            "Accuracy of predicting Fastball for Max Scherzer: 54.67%\n",
            "\n",
            "\n"
          ]
        }
      ],
      "source": [
        "# unigram model for baseline comparison\n",
        "\n",
        "warnings.filterwarnings(\"ignore\", category=pd.errors.DtypeWarning)\n",
        "\n",
        "def unigram_test(name_to_id):\n",
        "  for pitcher in name_to_id.keys():\n",
        "    all_data = load_pitcher_data(pitcher)\n",
        "\n",
        "    train_data, test_data = train_test_split(all_data, train_size = 2500, test_size=300, random_state=42)\n",
        "\n",
        "    most_common_pitch = train_data['pitch_type'].mode().iloc[0]\n",
        "    print(f\"Most common pitch for {pitcher}: {most_common_pitch}\")\n",
        "\n",
        "    accuracy = (test_data['pitch_type'] == most_common_pitch).mean()\n",
        "    print(f\"Accuracy of predicting {most_common_pitch} for {pitcher}: {accuracy:.2%}\")\n",
        "    print(\"\\n\")\n",
        "\n",
        "    pitcher_accuracies[pitcher][0] = accuracy\n",
        "\n",
        "unigram_test(name_to_id)\n"
      ]
    },
    {
      "cell_type": "code",
      "source": [
        "\"\"\"\n",
        "\n",
        "format for running models\n",
        "\n",
        "for pitcher in name_to_id:\n",
        "  print(pitcher)\n",
        "  accuracy = train_model(pitcher, CONTEXT_SIZE, TYPE_OF_SENTENCE, train_size=2500, test_size=300)\n",
        "  pitcher_accuracies[pitcher][CONTEXT_SIZE] = accuracy\n",
        "\n",
        "\"\"\""
      ],
      "metadata": {
        "id": "rieZKIEq44xC"
      },
      "execution_count": null,
      "outputs": []
    },
    {
      "cell_type": "code",
      "execution_count": null,
      "metadata": {
        "colab": {
          "base_uri": "https://localhost:8080/",
          "height": 1000
        },
        "id": "2kT0u9t0zJ1d",
        "outputId": "b32db571-cf29-4bec-b286-4e2c4b46cb4b"
      },
      "outputs": [
        {
          "name": "stdout",
          "output_type": "stream",
          "text": [
            "Aaron Nola\n"
          ]
        },
        {
          "name": "stderr",
          "output_type": "stream",
          "text": [
            "Some weights of GPT2ForSequenceClassification were not initialized from the model checkpoint at gpt2 and are newly initialized: ['score.weight']\n",
            "You should probably TRAIN this model on a down-stream task to be able to use it for predictions and inference.\n"
          ]
        },
        {
          "data": {
            "text/html": [
              "\n",
              "    <div>\n",
              "      \n",
              "      <progress value='471' max='471' style='width:300px; height:20px; vertical-align: middle;'></progress>\n",
              "      [471/471 05:18, Epoch 3/3]\n",
              "    </div>\n",
              "    <table border=\"1\" class=\"dataframe\">\n",
              "  <thead>\n",
              " <tr style=\"text-align: left;\">\n",
              "      <th>Step</th>\n",
              "      <th>Training Loss</th>\n",
              "      <th>Validation Loss</th>\n",
              "    </tr>\n",
              "  </thead>\n",
              "  <tbody>\n",
              "  </tbody>\n",
              "</table><p>"
            ],
            "text/plain": [
              "<IPython.core.display.HTML object>"
            ]
          },
          "metadata": {},
          "output_type": "display_data"
        },
        {
          "data": {
            "text/html": [
              "\n",
              "    <div>\n",
              "      \n",
              "      <progress value='19' max='19' style='width:300px; height:20px; vertical-align: middle;'></progress>\n",
              "      [19/19 00:03]\n",
              "    </div>\n",
              "    "
            ],
            "text/plain": [
              "<IPython.core.display.HTML object>"
            ]
          },
          "metadata": {},
          "output_type": "display_data"
        },
        {
          "name": "stdout",
          "output_type": "stream",
          "text": [
            "Aaron Nola Evaluation results with <function convert_pitch_to_short_sentence at 0x7a870c38e170> and context_size 8: {'eval_loss': 0.9581496119499207, 'eval_accuracy': 0.54, 'eval_f1': 0.38452631578947366, 'eval_runtime': 3.5491, 'eval_samples_per_second': 84.528, 'eval_steps_per_second': 5.353, 'epoch': 3.0}\n",
            "Kevin Gausman\n"
          ]
        },
        {
          "name": "stderr",
          "output_type": "stream",
          "text": [
            "Some weights of GPT2ForSequenceClassification were not initialized from the model checkpoint at gpt2 and are newly initialized: ['score.weight']\n",
            "You should probably TRAIN this model on a down-stream task to be able to use it for predictions and inference.\n"
          ]
        },
        {
          "data": {
            "text/html": [
              "\n",
              "    <div>\n",
              "      \n",
              "      <progress value='471' max='471' style='width:300px; height:20px; vertical-align: middle;'></progress>\n",
              "      [471/471 05:08, Epoch 3/3]\n",
              "    </div>\n",
              "    <table border=\"1\" class=\"dataframe\">\n",
              "  <thead>\n",
              " <tr style=\"text-align: left;\">\n",
              "      <th>Step</th>\n",
              "      <th>Training Loss</th>\n",
              "      <th>Validation Loss</th>\n",
              "    </tr>\n",
              "  </thead>\n",
              "  <tbody>\n",
              "  </tbody>\n",
              "</table><p>"
            ],
            "text/plain": [
              "<IPython.core.display.HTML object>"
            ]
          },
          "metadata": {},
          "output_type": "display_data"
        },
        {
          "data": {
            "text/html": [
              "\n",
              "    <div>\n",
              "      \n",
              "      <progress value='19' max='19' style='width:300px; height:20px; vertical-align: middle;'></progress>\n",
              "      [19/19 00:03]\n",
              "    </div>\n",
              "    "
            ],
            "text/plain": [
              "<IPython.core.display.HTML object>"
            ]
          },
          "metadata": {},
          "output_type": "display_data"
        },
        {
          "name": "stdout",
          "output_type": "stream",
          "text": [
            "Kevin Gausman Evaluation results with <function convert_pitch_to_short_sentence at 0x7a870c38e170> and context_size 8: {'eval_loss': 0.8326617479324341, 'eval_accuracy': 0.6433333333333333, 'eval_f1': 0.5516612127314428, 'eval_runtime': 3.6663, 'eval_samples_per_second': 81.826, 'eval_steps_per_second': 5.182, 'epoch': 3.0}\n",
            "Gerrit Cole\n"
          ]
        },
        {
          "name": "stderr",
          "output_type": "stream",
          "text": [
            "Some weights of GPT2ForSequenceClassification were not initialized from the model checkpoint at gpt2 and are newly initialized: ['score.weight']\n",
            "You should probably TRAIN this model on a down-stream task to be able to use it for predictions and inference.\n"
          ]
        },
        {
          "data": {
            "text/html": [
              "\n",
              "    <div>\n",
              "      \n",
              "      <progress value='471' max='471' style='width:300px; height:20px; vertical-align: middle;'></progress>\n",
              "      [471/471 05:07, Epoch 3/3]\n",
              "    </div>\n",
              "    <table border=\"1\" class=\"dataframe\">\n",
              "  <thead>\n",
              " <tr style=\"text-align: left;\">\n",
              "      <th>Step</th>\n",
              "      <th>Training Loss</th>\n",
              "      <th>Validation Loss</th>\n",
              "    </tr>\n",
              "  </thead>\n",
              "  <tbody>\n",
              "  </tbody>\n",
              "</table><p>"
            ],
            "text/plain": [
              "<IPython.core.display.HTML object>"
            ]
          },
          "metadata": {},
          "output_type": "display_data"
        },
        {
          "data": {
            "text/html": [
              "\n",
              "    <div>\n",
              "      \n",
              "      <progress value='19' max='19' style='width:300px; height:20px; vertical-align: middle;'></progress>\n",
              "      [19/19 00:03]\n",
              "    </div>\n",
              "    "
            ],
            "text/plain": [
              "<IPython.core.display.HTML object>"
            ]
          },
          "metadata": {},
          "output_type": "display_data"
        },
        {
          "name": "stdout",
          "output_type": "stream",
          "text": [
            "Gerrit Cole Evaluation results with <function convert_pitch_to_short_sentence at 0x7a870c38e170> and context_size 8: {'eval_loss': 0.8305100798606873, 'eval_accuracy': 0.66, 'eval_f1': 0.5301667630614998, 'eval_runtime': 3.5651, 'eval_samples_per_second': 84.149, 'eval_steps_per_second': 5.329, 'epoch': 3.0}\n",
            "Justin Verlander\n"
          ]
        },
        {
          "name": "stderr",
          "output_type": "stream",
          "text": [
            "Some weights of GPT2ForSequenceClassification were not initialized from the model checkpoint at gpt2 and are newly initialized: ['score.weight']\n",
            "You should probably TRAIN this model on a down-stream task to be able to use it for predictions and inference.\n"
          ]
        },
        {
          "data": {
            "text/html": [
              "\n",
              "    <div>\n",
              "      \n",
              "      <progress value='471' max='471' style='width:300px; height:20px; vertical-align: middle;'></progress>\n",
              "      [471/471 05:21, Epoch 3/3]\n",
              "    </div>\n",
              "    <table border=\"1\" class=\"dataframe\">\n",
              "  <thead>\n",
              " <tr style=\"text-align: left;\">\n",
              "      <th>Step</th>\n",
              "      <th>Training Loss</th>\n",
              "      <th>Validation Loss</th>\n",
              "    </tr>\n",
              "  </thead>\n",
              "  <tbody>\n",
              "  </tbody>\n",
              "</table><p>"
            ],
            "text/plain": [
              "<IPython.core.display.HTML object>"
            ]
          },
          "metadata": {},
          "output_type": "display_data"
        },
        {
          "data": {
            "text/html": [
              "\n",
              "    <div>\n",
              "      \n",
              "      <progress value='19' max='19' style='width:300px; height:20px; vertical-align: middle;'></progress>\n",
              "      [19/19 00:03]\n",
              "    </div>\n",
              "    "
            ],
            "text/plain": [
              "<IPython.core.display.HTML object>"
            ]
          },
          "metadata": {},
          "output_type": "display_data"
        },
        {
          "name": "stdout",
          "output_type": "stream",
          "text": [
            "Justin Verlander Evaluation results with <function convert_pitch_to_short_sentence at 0x7a870c38e170> and context_size 8: {'eval_loss': 0.8258687257766724, 'eval_accuracy': 0.64, 'eval_f1': 0.6202256577683887, 'eval_runtime': 3.6607, 'eval_samples_per_second': 81.952, 'eval_steps_per_second': 5.19, 'epoch': 3.0}\n",
            "Jose Berrios\n"
          ]
        },
        {
          "name": "stderr",
          "output_type": "stream",
          "text": [
            "Some weights of GPT2ForSequenceClassification were not initialized from the model checkpoint at gpt2 and are newly initialized: ['score.weight']\n",
            "You should probably TRAIN this model on a down-stream task to be able to use it for predictions and inference.\n"
          ]
        },
        {
          "data": {
            "text/html": [
              "\n",
              "    <div>\n",
              "      \n",
              "      <progress value='471' max='471' style='width:300px; height:20px; vertical-align: middle;'></progress>\n",
              "      [471/471 05:09, Epoch 3/3]\n",
              "    </div>\n",
              "    <table border=\"1\" class=\"dataframe\">\n",
              "  <thead>\n",
              " <tr style=\"text-align: left;\">\n",
              "      <th>Step</th>\n",
              "      <th>Training Loss</th>\n",
              "      <th>Validation Loss</th>\n",
              "    </tr>\n",
              "  </thead>\n",
              "  <tbody>\n",
              "  </tbody>\n",
              "</table><p>"
            ],
            "text/plain": [
              "<IPython.core.display.HTML object>"
            ]
          },
          "metadata": {},
          "output_type": "display_data"
        },
        {
          "data": {
            "text/html": [
              "\n",
              "    <div>\n",
              "      \n",
              "      <progress value='19' max='19' style='width:300px; height:20px; vertical-align: middle;'></progress>\n",
              "      [19/19 00:03]\n",
              "    </div>\n",
              "    "
            ],
            "text/plain": [
              "<IPython.core.display.HTML object>"
            ]
          },
          "metadata": {},
          "output_type": "display_data"
        },
        {
          "name": "stdout",
          "output_type": "stream",
          "text": [
            "Jose Berrios Evaluation results with <function convert_pitch_to_short_sentence at 0x7a870c38e170> and context_size 8: {'eval_loss': 0.9195884466171265, 'eval_accuracy': 0.5833333333333334, 'eval_f1': 0.4298245614035088, 'eval_runtime': 3.619, 'eval_samples_per_second': 82.896, 'eval_steps_per_second': 5.25, 'epoch': 3.0}\n",
            "Patrick Corbin\n"
          ]
        },
        {
          "name": "stderr",
          "output_type": "stream",
          "text": [
            "Some weights of GPT2ForSequenceClassification were not initialized from the model checkpoint at gpt2 and are newly initialized: ['score.weight']\n",
            "You should probably TRAIN this model on a down-stream task to be able to use it for predictions and inference.\n"
          ]
        },
        {
          "data": {
            "text/html": [
              "\n",
              "    <div>\n",
              "      \n",
              "      <progress value='471' max='471' style='width:300px; height:20px; vertical-align: middle;'></progress>\n",
              "      [471/471 05:14, Epoch 3/3]\n",
              "    </div>\n",
              "    <table border=\"1\" class=\"dataframe\">\n",
              "  <thead>\n",
              " <tr style=\"text-align: left;\">\n",
              "      <th>Step</th>\n",
              "      <th>Training Loss</th>\n",
              "      <th>Validation Loss</th>\n",
              "    </tr>\n",
              "  </thead>\n",
              "  <tbody>\n",
              "  </tbody>\n",
              "</table><p>"
            ],
            "text/plain": [
              "<IPython.core.display.HTML object>"
            ]
          },
          "metadata": {},
          "output_type": "display_data"
        },
        {
          "data": {
            "text/html": [
              "\n",
              "    <div>\n",
              "      \n",
              "      <progress value='19' max='19' style='width:300px; height:20px; vertical-align: middle;'></progress>\n",
              "      [19/19 00:03]\n",
              "    </div>\n",
              "    "
            ],
            "text/plain": [
              "<IPython.core.display.HTML object>"
            ]
          },
          "metadata": {},
          "output_type": "display_data"
        },
        {
          "name": "stdout",
          "output_type": "stream",
          "text": [
            "Patrick Corbin Evaluation results with <function convert_pitch_to_short_sentence at 0x7a870c38e170> and context_size 8: {'eval_loss': 0.8445050120353699, 'eval_accuracy': 0.51, 'eval_f1': 0.4970631921198814, 'eval_runtime': 3.5458, 'eval_samples_per_second': 84.608, 'eval_steps_per_second': 5.358, 'epoch': 3.0}\n",
            "Jose Quintana\n"
          ]
        },
        {
          "name": "stderr",
          "output_type": "stream",
          "text": [
            "Some weights of GPT2ForSequenceClassification were not initialized from the model checkpoint at gpt2 and are newly initialized: ['score.weight']\n",
            "You should probably TRAIN this model on a down-stream task to be able to use it for predictions and inference.\n"
          ]
        },
        {
          "data": {
            "text/html": [
              "\n",
              "    <div>\n",
              "      \n",
              "      <progress value='471' max='471' style='width:300px; height:20px; vertical-align: middle;'></progress>\n",
              "      [471/471 05:14, Epoch 3/3]\n",
              "    </div>\n",
              "    <table border=\"1\" class=\"dataframe\">\n",
              "  <thead>\n",
              " <tr style=\"text-align: left;\">\n",
              "      <th>Step</th>\n",
              "      <th>Training Loss</th>\n",
              "      <th>Validation Loss</th>\n",
              "    </tr>\n",
              "  </thead>\n",
              "  <tbody>\n",
              "  </tbody>\n",
              "</table><p>"
            ],
            "text/plain": [
              "<IPython.core.display.HTML object>"
            ]
          },
          "metadata": {},
          "output_type": "display_data"
        },
        {
          "data": {
            "text/html": [
              "\n",
              "    <div>\n",
              "      \n",
              "      <progress value='19' max='19' style='width:300px; height:20px; vertical-align: middle;'></progress>\n",
              "      [19/19 00:03]\n",
              "    </div>\n",
              "    "
            ],
            "text/plain": [
              "<IPython.core.display.HTML object>"
            ]
          },
          "metadata": {},
          "output_type": "display_data"
        },
        {
          "name": "stdout",
          "output_type": "stream",
          "text": [
            "Jose Quintana Evaluation results with <function convert_pitch_to_short_sentence at 0x7a870c38e170> and context_size 8: {'eval_loss': 0.9161618947982788, 'eval_accuracy': 0.5866666666666667, 'eval_f1': 0.43383753501400557, 'eval_runtime': 3.7075, 'eval_samples_per_second': 80.918, 'eval_steps_per_second': 5.125, 'epoch': 3.0}\n",
            "Max Scherzer\n"
          ]
        },
        {
          "name": "stderr",
          "output_type": "stream",
          "text": [
            "Some weights of GPT2ForSequenceClassification were not initialized from the model checkpoint at gpt2 and are newly initialized: ['score.weight']\n",
            "You should probably TRAIN this model on a down-stream task to be able to use it for predictions and inference.\n"
          ]
        },
        {
          "data": {
            "text/html": [
              "\n",
              "    <div>\n",
              "      \n",
              "      <progress value='471' max='471' style='width:300px; height:20px; vertical-align: middle;'></progress>\n",
              "      [471/471 05:02, Epoch 3/3]\n",
              "    </div>\n",
              "    <table border=\"1\" class=\"dataframe\">\n",
              "  <thead>\n",
              " <tr style=\"text-align: left;\">\n",
              "      <th>Step</th>\n",
              "      <th>Training Loss</th>\n",
              "      <th>Validation Loss</th>\n",
              "    </tr>\n",
              "  </thead>\n",
              "  <tbody>\n",
              "  </tbody>\n",
              "</table><p>"
            ],
            "text/plain": [
              "<IPython.core.display.HTML object>"
            ]
          },
          "metadata": {},
          "output_type": "display_data"
        },
        {
          "data": {
            "text/html": [
              "\n",
              "    <div>\n",
              "      \n",
              "      <progress value='19' max='19' style='width:300px; height:20px; vertical-align: middle;'></progress>\n",
              "      [19/19 00:03]\n",
              "    </div>\n",
              "    "
            ],
            "text/plain": [
              "<IPython.core.display.HTML object>"
            ]
          },
          "metadata": {},
          "output_type": "display_data"
        },
        {
          "name": "stdout",
          "output_type": "stream",
          "text": [
            "Max Scherzer Evaluation results with <function convert_pitch_to_short_sentence at 0x7a870c38e170> and context_size 8: {'eval_loss': 0.9265761375427246, 'eval_accuracy': 0.5833333333333334, 'eval_f1': 0.4298245614035088, 'eval_runtime': 3.5775, 'eval_samples_per_second': 83.858, 'eval_steps_per_second': 5.311, 'epoch': 3.0}\n"
          ]
        }
      ],
      "source": [
        "# example running of model\n",
        "# this model was run to obtain all the data in the attached google sheet numerous times\n",
        "\n",
        "for pitcher in name_to_id:\n",
        "  print(pitcher)\n",
        "  accuracy = train_model(pitcher, 8, convert_pitch_to_short_sentence, train_size=2500, test_size=300)\n",
        "  # note that it does not store different types of sentences, so we advise you run the model with the same type of sentence for all pitchers first, then re initialize and restart\n",
        "  pitcher_accuracies[pitcher][8] = accuracy"
      ]
    },
    {
      "cell_type": "code",
      "source": [
        "print(pitcher_accuracies)"
      ],
      "metadata": {
        "colab": {
          "base_uri": "https://localhost:8080/"
        },
        "id": "A5Zr39t33Pod",
        "outputId": "31aeebb6-41fb-4149-da0f-4fec442aafb4"
      },
      "execution_count": null,
      "outputs": [
        {
          "output_type": "stream",
          "name": "stdout",
          "text": [
            "{'Aaron Nola': {-1: 'initialized', 0: 0.47333333333333333}, 'Kevin Gausman': {-1: 'initialized', 0: 0.56}, 'Gerrit Cole': {-1: 'initialized', 0: 0.5766666666666667}, 'Justin Verlander': {-1: 'initialized', 0: 0.5633333333333334}, 'Jose Berrios': {-1: 'initialized', 0: 0.54}, 'Max Scherzer': {-1: 'initialized', 0: 0.5466666666666666}}\n"
          ]
        }
      ]
    }
  ],
  "metadata": {
    "accelerator": "GPU",
    "colab": {
      "gpuType": "T4",
      "provenance": [],
      "collapsed_sections": [
        "I3TbEj_rfNRR",
        "JUSUzL1L6_ml",
        "VPPVTnSB8wMd",
        "dL1B4INg7KIi",
        "JMwF6emd8B6g"
      ],
      "include_colab_link": true
    },
    "kernelspec": {
      "display_name": "Python 3",
      "name": "python3"
    },
    "language_info": {
      "name": "python"
    }
  },
  "nbformat": 4,
  "nbformat_minor": 0
}